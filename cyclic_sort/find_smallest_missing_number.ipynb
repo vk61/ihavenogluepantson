{
 "cells": [
  {
   "cell_type": "markdown",
   "metadata": {},
   "source": [
    "https://leetcode.com/problems/first-missing-positive/\n",
    "\n",
    "Given an unsorted array containing numbers, find the smallest missing positive number in it.\n",
    "\n",
    "https://leetcode.com/problems/kth-missing-positive-number/\n",
    "\n",
    "Given an unsorted array containing numbers and a number K, find the first K missing positive numbers in the array.\n",
    "\n",
    "Input: arr = [2,3,4,7,11], k = 5\n",
    "Output: 9\n",
    "Explanation: The missing positive integers are [1,5,6,8,9,10,12,13,...]. The 5th missing positive integer is 9."
   ]
  },
  {
   "cell_type": "code",
   "execution_count": null,
   "metadata": {},
   "outputs": [],
   "source": [
    "from typing import List\n",
    "\n",
    "\n",
    "class Solution:\n",
    "    def firstMissingPositive(self, nums: List[int]) -> int:\n",
    "        i = 0\n",
    "        arr_len = len(nums)\n",
    "        while i <  arr_len:\n",
    "            j = nums[i] - 1\n",
    "            if j >= 0 and j < arr_len and i!=j and nums[i]!=nums[j]:\n",
    "                temp = nums[j]\n",
    "                nums[j] = nums[i]\n",
    "                nums[i] = temp\n",
    "                continue\n",
    "            i+=1\n",
    "        val_found = None\n",
    "        for idx,val in enumerate(nums,start=1):\n",
    "            if idx != val:\n",
    "                return idx\n",
    "            else:\n",
    "                val_found = val\n",
    "        return val_found+1\n",
    "    def findKthPositive(self, arr: List[int], k: int) -> int:\n",
    "        i = 0\n",
    "        arr_len = len(arr)\n",
    "        while i <  arr_len:\n",
    "            j = arr[i] - 1\n",
    "            if  j < arr_len and i!=j and arr[i]!=arr[j]:\n",
    "                temp = arr[j]\n",
    "                arr[j] = arr[i]\n",
    "                arr[i] = temp\n",
    "                continue\n",
    "            i+=1\n",
    "        \n",
    "        for idx,val in enumerate(arr,start=1):\n",
    "            if idx != val:\n",
    "                k-=1\n",
    "                if k == 0:\n",
    "                    return idx\n",
    "        \n",
    "                    \n",
    "        \n"
   ]
  },
  {
   "cell_type": "code",
   "execution_count": 12,
   "metadata": {},
   "outputs": [
    {
     "data": {
      "text/plain": [
       "3"
      ]
     },
     "execution_count": 12,
     "metadata": {},
     "output_type": "execute_result"
    }
   ],
   "source": [
    "Solution().firstMissingPositive([1,2,0])"
   ]
  },
  {
   "cell_type": "code",
   "execution_count": 13,
   "metadata": {},
   "outputs": [
    {
     "data": {
      "text/plain": [
       "2"
      ]
     },
     "execution_count": 13,
     "metadata": {},
     "output_type": "execute_result"
    }
   ],
   "source": [
    "Solution().firstMissingPositive([3,4,-1,1])"
   ]
  },
  {
   "cell_type": "code",
   "execution_count": 14,
   "metadata": {},
   "outputs": [
    {
     "data": {
      "text/plain": [
       "1"
      ]
     },
     "execution_count": 14,
     "metadata": {},
     "output_type": "execute_result"
    }
   ],
   "source": [
    "Solution().firstMissingPositive([7,8,9,11,12])"
   ]
  },
  {
   "cell_type": "code",
   "execution_count": null,
   "metadata": {},
   "outputs": [
    {
     "data": {
      "text/plain": [
       "2"
      ]
     },
     "execution_count": 15,
     "metadata": {},
     "output_type": "execute_result"
    }
   ],
   "source": [
    "Solution().firstMissingPositive([1])"
   ]
  },
  {
   "cell_type": "code",
   "execution_count": 17,
   "metadata": {},
   "outputs": [
    {
     "data": {
      "text/plain": [
       "2"
      ]
     },
     "execution_count": 17,
     "metadata": {},
     "output_type": "execute_result"
    }
   ],
   "source": [
    "Solution().firstMissingPositive([1,1])"
   ]
  },
  {
   "cell_type": "code",
   "execution_count": 19,
   "metadata": {},
   "outputs": [
    {
     "data": {
      "text/plain": [
       "7"
      ]
     },
     "execution_count": 19,
     "metadata": {},
     "output_type": "execute_result"
    }
   ],
   "source": [
    "Solution().findKthPositive([2,3,4,7,11],5)"
   ]
  }
 ],
 "metadata": {
  "kernelspec": {
   "display_name": "base",
   "language": "python",
   "name": "python3"
  },
  "language_info": {
   "codemirror_mode": {
    "name": "ipython",
    "version": 3
   },
   "file_extension": ".py",
   "mimetype": "text/x-python",
   "name": "python",
   "nbconvert_exporter": "python",
   "pygments_lexer": "ipython3",
   "version": "3.9.12"
  }
 },
 "nbformat": 4,
 "nbformat_minor": 2
}
