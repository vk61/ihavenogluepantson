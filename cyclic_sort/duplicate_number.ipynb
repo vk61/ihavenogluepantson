{
 "cells": [
  {
   "cell_type": "markdown",
   "metadata": {},
   "source": [
    "https://leetcode.com/problems/find-the-duplicate-number/\n",
    "\n",
    "\n",
    "Given an array of integers nums containing n + 1 integers where each integer is in the range [1, n] inclusive.\n",
    "\n",
    "There is only one repeated number in nums, return this repeated number.\n",
    "\n",
    "You must solve the problem without modifying the array nums and using only constant extra space.\n",
    "\n",
    "\n",
    "https://leetcode.com/problems/find-all-duplicates-in-an-array/\n",
    "\n",
    "We are given an unsorted array containing n numbers taken from the range 1 to n. The array has some numbers appearing twice, find all these duplicate numbers without using any extra space.\n",
    "\n"
   ]
  },
  {
   "cell_type": "code",
   "execution_count": 11,
   "metadata": {},
   "outputs": [],
   "source": [
    "from typing import List\n",
    "\n",
    "\n",
    "class Solution:\n",
    "    #  using fast and slow pointer \n",
    "    def findDuplicate(self, nums: List[int]) -> int:\n",
    "        slow = nums[0]\n",
    "        fast = nums[nums[0]]\n",
    "        while slow!=fast:\n",
    "            slow = nums[slow]\n",
    "            fast = nums[nums[fast]]\n",
    "        \n",
    "        current = nums[nums[slow]]\n",
    "        cycle_len = 1\n",
    "        while nums[slow] != current:\n",
    "            current = nums[current]\n",
    "            cycle_len+=1\n",
    "        pointer1 = nums[0]\n",
    "        pointer2 = nums[0]\n",
    "\n",
    "        while cycle_len > 0:\n",
    "            pointer1 = nums[pointer1]\n",
    "            cycle_len -=1\n",
    "\n",
    "        while pointer2!=pointer1:\n",
    "            pointer1 = nums[pointer1]\n",
    "            pointer2 = nums[pointer2]\n",
    "        return pointer1\n",
    "    def findDuplicates(self, nums: List[int]) -> List[int]:\n",
    "        i = 0\n",
    "        arr_len = len(nums)\n",
    "        while i< arr_len:\n",
    "            if i+1!=nums[i] and nums[i] != nums[nums[i]-1]:\n",
    "                temp = nums[nums[i]-1]\n",
    "                nums[nums[i]-1] = nums[i]\n",
    "                nums[i] = temp\n",
    "                continue\n",
    "            i+=1\n",
    "\n",
    "        ans = []\n",
    "        for idx,val in enumerate(nums):\n",
    "            if idx+1!=val:\n",
    "                ans.append(val)\n",
    "        return ans"
   ]
  },
  {
   "cell_type": "code",
   "execution_count": 5,
   "metadata": {},
   "outputs": [
    {
     "data": {
      "text/plain": [
       "2"
      ]
     },
     "execution_count": 5,
     "metadata": {},
     "output_type": "execute_result"
    }
   ],
   "source": [
    "Solution().findDuplicate([1,3,4,2,2])"
   ]
  },
  {
   "cell_type": "code",
   "execution_count": 12,
   "metadata": {},
   "outputs": [
    {
     "data": {
      "text/plain": [
       "[3, 2]"
      ]
     },
     "execution_count": 12,
     "metadata": {},
     "output_type": "execute_result"
    }
   ],
   "source": [
    "Solution().findDuplicates([4,3,2,7,8,2,3,1])"
   ]
  }
 ],
 "metadata": {
  "kernelspec": {
   "display_name": "base",
   "language": "python",
   "name": "python3"
  },
  "language_info": {
   "codemirror_mode": {
    "name": "ipython",
    "version": 3
   },
   "file_extension": ".py",
   "mimetype": "text/x-python",
   "name": "python",
   "nbconvert_exporter": "python",
   "pygments_lexer": "ipython3",
   "version": "3.9.12"
  }
 },
 "nbformat": 4,
 "nbformat_minor": 2
}
