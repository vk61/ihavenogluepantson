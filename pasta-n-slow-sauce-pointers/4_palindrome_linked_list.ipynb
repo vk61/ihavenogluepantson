{
 "cells": [
  {
   "cell_type": "markdown",
   "metadata": {},
   "source": [
    "https://leetcode.com/problems/palindrome-linked-list/"
   ]
  },
  {
   "cell_type": "code",
   "execution_count": 31,
   "metadata": {},
   "outputs": [],
   "source": [
    "# Definition for singly-linked list.\n",
    "class ListNode:\n",
    "    def __init__(self, val=0, next=None):\n",
    "        self.val = val\n",
    "        self.next = next\n",
    "from typing import Optional\n",
    "\n",
    "\n",
    "class Solution:\n",
    "    def reverseLinkedList(self,head:Optional[ListNode]) -> bool:\n",
    "        prev = None\n",
    "        curr = head\n",
    "        while curr:\n",
    "            curr_temp = curr.next\n",
    "            curr.next = prev\n",
    "            prev = curr\n",
    "            curr = curr_temp\n",
    "        return prev\n",
    "\n",
    "\n",
    "    def isPalindrome(self, head: Optional[ListNode]) -> bool:\n",
    "        # find middle node\n",
    "        slow = head\n",
    "        fast = head\n",
    "        while fast and fast.next:\n",
    "            slow = slow.next\n",
    "            fast = fast.next.next\n",
    "        mid = slow\n",
    "        rev_secnd_half_head = self.reverseLinkedList(mid)\n",
    "        while rev_secnd_half_head:\n",
    "            if rev_secnd_half_head.val != head.val:\n",
    "                return False\n",
    "            rev_secnd_half_head = rev_secnd_half_head.next\n",
    "            head = head.next\n",
    "        return True \n",
    "\n",
    "        "
   ]
  },
  {
   "cell_type": "code",
   "execution_count": 35,
   "metadata": {},
   "outputs": [
    {
     "data": {
      "text/plain": [
       "True"
      ]
     },
     "execution_count": 35,
     "metadata": {},
     "output_type": "execute_result"
    }
   ],
   "source": [
    "\n",
    "node2 = ListNode(val=1)\n",
    "node1 = ListNode(val=0,next=node2)\n",
    "head = ListNode(val=1,next=node1)\n",
    "Solution().isPalindrome(head)\n",
    "\n"
   ]
  }
 ],
 "metadata": {
  "kernelspec": {
   "display_name": "base",
   "language": "python",
   "name": "python3"
  },
  "language_info": {
   "codemirror_mode": {
    "name": "ipython",
    "version": 3
   },
   "file_extension": ".py",
   "mimetype": "text/x-python",
   "name": "python",
   "nbconvert_exporter": "python",
   "pygments_lexer": "ipython3",
   "version": "3.9.12"
  }
 },
 "nbformat": 4,
 "nbformat_minor": 2
}
