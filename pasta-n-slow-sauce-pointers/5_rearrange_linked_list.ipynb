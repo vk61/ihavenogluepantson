{
 "cells": [
  {
   "cell_type": "markdown",
   "metadata": {},
   "source": [
    "https://leetcode.com/problems/reorder-list/\n",
    "\n",
    "Given the head of a Singly LinkedList, write a method to modify the LinkedList such that the nodes from the second half of the LinkedList are inserted alternately to the nodes from the first half in reverse order. So if the LinkedList has nodes 1 -> 2 -> 3 -> 4 -> 5 -> 6 -> null, your method should return 1 -> 6 -> 2 -> 5 -> 3 -> 4 -> null.\n",
    "\n",
    "Your algorithm should not use any extra space and the input LinkedList should be modified in-place."
   ]
  },
  {
   "cell_type": "code",
   "execution_count": 2,
   "metadata": {},
   "outputs": [],
   "source": [
    "# Definition for singly-linked list.\n",
    "class ListNode:\n",
    "    def __init__(self, val=0, next=None):\n",
    "        self.val = val\n",
    "        self.next = next\n",
    "from typing import Optional\n",
    "\n",
    "\n",
    "class Solution:\n",
    "    def reverseLinkedList(self,head:Optional[ListNode]) -> None:\n",
    "        curr = head\n",
    "        prev = None\n",
    "        while curr:\n",
    "            curr_temp = curr.next\n",
    "            curr.next = prev\n",
    "            prev = curr\n",
    "            curr = curr_temp\n",
    "        return prev\n",
    "    def reorderList(self, head: Optional[ListNode]) -> None:\n",
    "        \"\"\"\n",
    "        Do not return anything, modify head in-place instead.\n",
    "        \"\"\"\n",
    "        slow = head\n",
    "        fast = head\n",
    "        while fast and fast.next:\n",
    "            slow = slow.next\n",
    "            fast = fast.next.next\n",
    "        mid = slow\n",
    "        reversed_head_scnd_half = self.reverseLinkedList(mid)\n",
    "        while reversed_head_scnd_half and reversed_head_scnd_half.next:\n",
    "            head_next_temp = head.next\n",
    "            reversed_head_next_temp = reversed_head_scnd_half.next\n",
    "            reversed_head_scnd_half.next = head.next\n",
    "            head.next = reversed_head_scnd_half\n",
    "            reversed_head_scnd_half = reversed_head_next_temp\n",
    "            head = head_next_temp\n"
   ]
  },
  {
   "cell_type": "code",
   "execution_count": 3,
   "metadata": {},
   "outputs": [],
   "source": [
    "node2 = ListNode(val=2)\n",
    "node1 = ListNode(val=1,next=node2)\n",
    "head = ListNode(val=0,next=node1)\n",
    "Solution().reorderList(head)\n"
   ]
  }
 ],
 "metadata": {
  "kernelspec": {
   "display_name": "base",
   "language": "python",
   "name": "python3"
  },
  "language_info": {
   "codemirror_mode": {
    "name": "ipython",
    "version": 3
   },
   "file_extension": ".py",
   "mimetype": "text/x-python",
   "name": "python",
   "nbconvert_exporter": "python",
   "pygments_lexer": "ipython3",
   "version": "3.9.12"
  }
 },
 "nbformat": 4,
 "nbformat_minor": 2
}
