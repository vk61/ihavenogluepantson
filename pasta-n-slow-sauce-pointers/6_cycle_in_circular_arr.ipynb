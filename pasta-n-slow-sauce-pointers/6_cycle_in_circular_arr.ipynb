{
 "cells": [
  {
   "cell_type": "markdown",
   "metadata": {},
   "source": [
    "https://leetcode.com/problems/circular-array-loop/\n",
    "\n",
    "We are given an array containing positive and negative numbers. Suppose the array contains a number M at a particular index. Now, if M is positive we will move forward M indices and if M is negative move backwards M indices. You should assume that the array is circular which means two things:\n",
    "\n",
    "If, while moving forward, we reach the end of the array, we will jump to the first element to continue the movement.\n",
    "If, while moving backward, we reach the beginning of the array, we will jump to the last element to continue the movement. Write a method to determine if the array has a cycle. The cycle should have more than one element and should follow one direction which means the cycle should not contain both forward and backward movements.\n",
    "\n",
    "\n",
    "The algorithm will have a time complexity of O(N²) where N is the number of elements in the array. This complexity is due to the fact that we are iterating all elements of the array and trying to find a cycle for each element.\n",
    "The algorithm runs in constant space O(1).\n",
    "\n",
    "\n",
    "An Alternate Approach\n",
    "In our algorithm, we don’t keep a record of all the numbers that have been evaluated for cycle . We know that all such numbers will not produce a cycle for any other instance as well. If we can remember all the numbers that have been visited, our algorithm will improve to O(N) as, then, each number will be evaluated for cycle only once. We can keep track of this by creating a separate array, however, in this case, the space complexity of our algorithm will increase to O(N)."
   ]
  },
  {
   "cell_type": "code",
   "execution_count": 49,
   "metadata": {},
   "outputs": [],
   "source": [
    "from typing import List\n",
    "\n",
    "\n",
    "class Solution:\n",
    "    def next(self,curr_idx:int,arr:List[int],forward:bool) -> int:\n",
    "        direction = arr[curr_idx] > 0\n",
    "        if direction != forward:\n",
    "            return -1\n",
    "        arr_size = len(arr)\n",
    "        next_idx = (curr_idx + arr[curr_idx] + arr_size) % arr_size\n",
    "        if curr_idx == next_idx:\n",
    "            return -1\n",
    "        return next_idx\n",
    "        \n",
    "\n",
    "    def circularArrayLoop(self, nums: List[int]) -> bool:\n",
    "        for idx,val in enumerate(nums):\n",
    "            forward = val > 0\n",
    "            slow = idx\n",
    "            fast = idx\n",
    "            while True:\n",
    "                slow = self.next(slow,nums,forward)\n",
    "                if slow == -1:\n",
    "                    break\n",
    "                fast = self.next(fast,nums,forward)\n",
    "                if fast == -1:\n",
    "                    break\n",
    "                fast = self.next(fast,nums,forward)\n",
    "                if fast == -1:\n",
    "                    break\n",
    "                if slow == fast:\n",
    "                    return True\n",
    "        return False"
   ]
  },
  {
   "cell_type": "code",
   "execution_count": 50,
   "metadata": {},
   "outputs": [
    {
     "data": {
      "text/plain": [
       "True"
      ]
     },
     "execution_count": 50,
     "metadata": {},
     "output_type": "execute_result"
    }
   ],
   "source": [
    "Solution().circularArrayLoop([2,-1,1,2,2])"
   ]
  },
  {
   "cell_type": "code",
   "execution_count": 52,
   "metadata": {},
   "outputs": [
    {
     "data": {
      "text/plain": [
       "False"
      ]
     },
     "execution_count": 52,
     "metadata": {},
     "output_type": "execute_result"
    }
   ],
   "source": [
    "Solution().circularArrayLoop([-1,-2,-3,-4,-5,6])"
   ]
  },
  {
   "cell_type": "code",
   "execution_count": 53,
   "metadata": {},
   "outputs": [
    {
     "data": {
      "text/plain": [
       "True"
      ]
     },
     "execution_count": 53,
     "metadata": {},
     "output_type": "execute_result"
    }
   ],
   "source": [
    "Solution().circularArrayLoop([1,-1,5,1,4])"
   ]
  },
  {
   "cell_type": "code",
   "execution_count": 54,
   "metadata": {},
   "outputs": [
    {
     "data": {
      "text/plain": [
       "True"
      ]
     },
     "execution_count": 54,
     "metadata": {},
     "output_type": "execute_result"
    }
   ],
   "source": [
    "Solution().circularArrayLoop([1,1,2])"
   ]
  }
 ],
 "metadata": {
  "kernelspec": {
   "display_name": "base",
   "language": "python",
   "name": "python3"
  },
  "language_info": {
   "codemirror_mode": {
    "name": "ipython",
    "version": 3
   },
   "file_extension": ".py",
   "mimetype": "text/x-python",
   "name": "python",
   "nbconvert_exporter": "python",
   "pygments_lexer": "ipython3",
   "version": "3.9.12"
  }
 },
 "nbformat": 4,
 "nbformat_minor": 2
}
