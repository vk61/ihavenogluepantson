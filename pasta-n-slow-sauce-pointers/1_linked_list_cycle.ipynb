{
 "cells": [
  {
   "cell_type": "markdown",
   "metadata": {},
   "source": [
    "https://leetcode.com/problems/linked-list-cycle/\n",
    "\n",
    "Given the head of a Singly LinkedList, write a function to determine if the LinkedList has a cycle in it or not."
   ]
  },
  {
   "cell_type": "code",
   "execution_count": 1,
   "metadata": {},
   "outputs": [],
   "source": [
    "\n",
    "from typing import Optional\n",
    "\n",
    "\n",
    "# Definition for singly-linked list.\n",
    "class ListNode:\n",
    "    def __init__(self, x):\n",
    "        self.val = x\n",
    "        self.next = None\n",
    "\n",
    "\n",
    "class Solution:\n",
    "    def hasCycle(self, head: Optional[ListNode]) -> bool:\n",
    "        slow = head\n",
    "        fast = None\n",
    "        if head and head.next:\n",
    "            fast = head.next.next\n",
    "        while slow and fast and fast.next:\n",
    "            if slow == fast:\n",
    "                return True\n",
    "            slow = slow.next\n",
    "            fast = fast.next.next\n",
    "        return False\n",
    "            \n",
    "\n",
    "        "
   ]
  },
  {
   "cell_type": "markdown",
   "metadata": {},
   "source": [
    "https://leetcode.com/problems/linked-list-cycle-ii/\n",
    "\n",
    "Given the head of a Singly LinkedList that contains a cycle, write a function to find the starting node of the cycle.\n",
    "\n",
    "As we know, finding the cycle in a LinkedList with N nodes and also finding the length of the cycle requires O(N). \n",
    "\n",
    "Also, as we saw in the above algorithm, we will need O(N) to find the start of the cycle. \n",
    "\n",
    "Therefore, the overall time complexity of our algorithm will be O(N).\n",
    "\n",
    "The algorithm runs in constant space O(1)."
   ]
  },
  {
   "cell_type": "code",
   "execution_count": null,
   "metadata": {},
   "outputs": [],
   "source": [
    "# Definition for singly-linked list.\n",
    "# class ListNode:\n",
    "#     def __init__(self, x):\n",
    "#         self.val = x\n",
    "#         self.next = None\n",
    "\n",
    "class Solution:\n",
    "    def detectCycle(self, head: Optional[ListNode]) -> Optional[ListNode]:\n",
    "        slow = head\n",
    "        fast = None\n",
    "        if head and head.next:\n",
    "            fast = head.next.next\n",
    "        cycle_len = 0\n",
    "        while slow and fast and fast.next:\n",
    "            if slow == fast:\n",
    "                cycle_len = 1\n",
    "                curr = slow.next\n",
    "                while curr!=slow:\n",
    "                    cycle_len+=1\n",
    "                    curr = curr.next\n",
    "                break\n",
    "            slow = slow.next\n",
    "            fast = fast.next.next\n",
    "        if cycle_len == 0:\n",
    "            return None\n",
    "        pointer_1 = head\n",
    "        pointer_2 = head\n",
    "        while cycle_len > 0:\n",
    "            pointer_2 = pointer_2.next\n",
    "            cycle_len -= 1\n",
    "     \n",
    "        while pointer_1 != pointer_2:\n",
    "            pointer_1 = pointer_1.next\n",
    "            pointer_2 = pointer_2.next\n",
    "            if pointer_1 == pointer_2:\n",
    "                return pointer_1\n",
    "        return pointer_1\n"
   ]
  }
 ],
 "metadata": {
  "kernelspec": {
   "display_name": "base",
   "language": "python",
   "name": "python3"
  },
  "language_info": {
   "codemirror_mode": {
    "name": "ipython",
    "version": 3
   },
   "file_extension": ".py",
   "mimetype": "text/x-python",
   "name": "python",
   "nbconvert_exporter": "python",
   "pygments_lexer": "ipython3",
   "version": "3.9.12"
  }
 },
 "nbformat": 4,
 "nbformat_minor": 2
}
