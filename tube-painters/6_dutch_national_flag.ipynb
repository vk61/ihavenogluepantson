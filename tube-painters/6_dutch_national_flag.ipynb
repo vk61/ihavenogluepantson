{
 "cells": [
  {
   "cell_type": "markdown",
   "metadata": {},
   "source": [
    "https://leetcode.com/problems/sort-colors/\n",
    "\n",
    "\n",
    "Given an array nums with n objects colored red, white, or blue, sort them in-place so that objects of the same color are adjacent, with the colors in the order red, white, and blue.\n",
    "\n",
    "We will use the integers 0, 1, and 2 to represent the color red, white, and blue, respectively.\n",
    "\n",
    "You must solve this problem without using the library's sort function.\n",
    "\n",
    "\n",
    "The flag of the Netherlands consists of three colors: red, white and blue; and since our input array also consists of three different numbers that is why it is called Dutch National Flag problem.\n",
    "\n",
    "The brute force solution will be to use an in-place sorting algorithm like Heapsort which will take O(N*logN). \n",
    "\n",
    "Using two pointer solution,\n",
    "\n",
    "The time complexity  will be O(N) as we are iterating the input array only once.\n",
    "\n",
    "The algorithm runs in constant space O(1)."
   ]
  },
  {
   "cell_type": "code",
   "execution_count": 48,
   "metadata": {},
   "outputs": [],
   "source": [
    "from typing import List\n",
    "\n",
    "\n",
    "class Solution:\n",
    "    def sortColors(self, nums: List[int]) -> None:\n",
    "        \"\"\"\n",
    "        Do not return anything, modify nums in-place instead.\n",
    "        \"\"\"\n",
    "        left = 0\n",
    "        right = len(nums) - 1\n",
    "        idx = 0\n",
    "        while idx <= right and left < right:\n",
    "            if nums[idx] == 2:\n",
    "                temp = nums[idx]\n",
    "                nums[idx] = nums[right]\n",
    "                nums[right] = temp\n",
    "                right -= 1\n",
    "            elif nums[idx] == 0:\n",
    "                temp = nums[idx]\n",
    "                nums[idx] = nums[left]\n",
    "                nums[left] = temp\n",
    "                left += 1\n",
    "                idx += 1\n",
    "            else:\n",
    "                idx += 1"
   ]
  },
  {
   "cell_type": "code",
   "execution_count": 45,
   "metadata": {},
   "outputs": [
    {
     "name": "stdout",
     "output_type": "stream",
     "text": [
      "[0, 0, 1, 1, 2, 2]\n"
     ]
    }
   ],
   "source": [
    "r = [2,0,2,1,1,0]\n",
    "Solution().sortColors(r)\n",
    "print(r)"
   ]
  },
  {
   "cell_type": "code",
   "execution_count": 49,
   "metadata": {},
   "outputs": [
    {
     "name": "stdout",
     "output_type": "stream",
     "text": [
      "[0, 1, 2]\n"
     ]
    }
   ],
   "source": [
    "r = [2,0,1]\n",
    "Solution().sortColors(r)\n",
    "print(r)"
   ]
  },
  {
   "cell_type": "code",
   "execution_count": 47,
   "metadata": {},
   "outputs": [
    {
     "name": "stdout",
     "output_type": "stream",
     "text": [
      "[1]\n"
     ]
    }
   ],
   "source": [
    "r = [1]\n",
    "Solution().sortColors(r)\n",
    "print(r)"
   ]
  }
 ],
 "metadata": {
  "kernelspec": {
   "display_name": "base",
   "language": "python",
   "name": "python3"
  },
  "language_info": {
   "codemirror_mode": {
    "name": "ipython",
    "version": 3
   },
   "file_extension": ".py",
   "mimetype": "text/x-python",
   "name": "python",
   "nbconvert_exporter": "python",
   "pygments_lexer": "ipython3",
   "version": "3.9.12"
  }
 },
 "nbformat": 4,
 "nbformat_minor": 2
}
