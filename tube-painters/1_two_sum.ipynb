{
 "cells": [
  {
   "cell_type": "markdown",
   "metadata": {},
   "source": [
    "Two pointer feels like a basic and easy idea to solve the problems with finding a set of solution based on some condition."
   ]
  },
  {
   "cell_type": "markdown",
   "metadata": {},
   "source": [
    "https://leetcode.com/problems/two-sum/\n",
    "\n",
    "https://leetcode.com/problems/two-sum-ii-input-array-is-sorted/description/\n",
    "\n",
    "Two sum problem is a classic problem with too many solution.\n",
    "\n",
    "two pointers pattern can be applied only if the input array is sorted\n",
    "other wise go with the hashtable solution\n",
    "\n",
    "We can follow the Two Pointers approach. We will start with one pointer pointing to the beginning of the array and another pointing at the end. At every step, we will see if the numbers pointed by the two pointers add up to the target sum. If they do, we have found our pair; otherwise, we will do one of two things:\n",
    "\n",
    "1 .If the sum of the two numbers pointed by the two pointers is greater than the target sum, this means that we need a pair with a smaller sum. So, to try more pairs, we can decrement the end-pointer.\n",
    "\n",
    "2 . If the sum of the two numbers pointed by the two pointers is smaller than the target sum, this means that we need a pair with a larger sum. So, to try more pairs, we can increment the start-pointer."
   ]
  },
  {
   "cell_type": "code",
   "execution_count": null,
   "metadata": {},
   "outputs": [],
   "source": [
    "from typing import List\n",
    "\n",
    "\n",
    "class Solution:\n",
    "    # two pointer solution only for sorted input array\n",
    "    def twoSum(self, nums: List[int], target: int) -> List[int]:\n",
    "        start = 0\n",
    "        end = len(nums)-1\n",
    "        while start < end:\n",
    "            sum = nums[start]+nums[end]\n",
    "            if sum == target:\n",
    "                return [start+1,end+1]\n",
    "            if sum > target:\n",
    "                end-=1\n",
    "            else:\n",
    "                start+=1\n",
    "        return []\n",
    "    # Hash table solution\n",
    "    def twoSum(self, nums: List[int], target: int) -> List[int]:\n",
    "        store = {}\n",
    "        for idx,val in enumerate(nums):\n",
    "            if val in store:\n",
    "                return [idx,store[val]]\n",
    "            store[target-val] = idx\n",
    "        return []\n",
    "        "
   ]
  }
 ],
 "metadata": {
  "kernelspec": {
   "display_name": "base",
   "language": "python",
   "name": "python3"
  },
  "language_info": {
   "name": "python",
   "version": "3.9.12"
  }
 },
 "nbformat": 4,
 "nbformat_minor": 2
}
