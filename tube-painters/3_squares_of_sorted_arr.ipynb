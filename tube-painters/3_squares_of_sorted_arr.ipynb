{
 "cells": [
  {
   "cell_type": "markdown",
   "metadata": {},
   "source": [
    "https://leetcode.com/problems/squares-of-a-sorted-array/\n",
    "\n",
    "Given an integer array nums sorted in non-decreasing order, return an array of the squares of each number sorted in non-decreasing order.\n",
    "\n",
    "An easier approach could be to first find the index of the first non-negative number in the array. After that, we can use Two Pointers to iterate the array. One pointer will move forward to iterate the non-negative numbers, and the other pointer will move backward to iterate the negative numbers. At any step, whichever number gives us a bigger square will be added to the output array.\n",
    "\n",
    "Since the numbers at both ends can give us the largest square, an alternate approach could be to use two pointers starting at both ends of the input array. At any step, whichever pointer gives us the bigger square, we add it to the result array and move to the next/previous number according to the pointer."
   ]
  },
  {
   "cell_type": "code",
   "execution_count": 25,
   "metadata": {},
   "outputs": [],
   "source": [
    "from typing import List\n",
    "\n",
    "\n",
    "class Solution:\n",
    "    #  my solution \n",
    "    def sortedSquares(self, nums: List[int]) -> List[int]:\n",
    "        neg_idx = -1\n",
    "        pos_idx = 0\n",
    "        arr_len = len(nums)\n",
    "        ans = []\n",
    "        while pos_idx < arr_len or neg_idx >= 0:\n",
    "            if pos_idx < arr_len:\n",
    "                if nums[pos_idx] < 0:\n",
    "                    neg_idx+=1\n",
    "                    pos_idx+=1\n",
    "                    continue\n",
    "                elif neg_idx >= 0:\n",
    "                    if abs(nums[neg_idx]) < abs(nums[pos_idx]):\n",
    "                        ans.append(nums[neg_idx]**2)\n",
    "                        neg_idx-=1\n",
    "                    else:\n",
    "                        ans.append(nums[pos_idx]**2)\n",
    "                        pos_idx+=1             \n",
    "                else:\n",
    "                    ans.append(nums[pos_idx]**2)\n",
    "                    pos_idx+=1\n",
    "            elif neg_idx >=0:\n",
    "                ans.append(nums[neg_idx]**2)\n",
    "                neg_idx-=1\n",
    "        return ans\n",
    "    \n",
    "    def sortedSquares_2(self, nums: List[int]) -> List[int]:\n",
    "        start_idx = 0\n",
    "        end_idx = len(nums)-1\n",
    "        ans = [0]*len(nums)\n",
    "        highest_idx = end_idx\n",
    "        while start_idx <= end_idx:\n",
    "            if abs(nums[start_idx]) > abs(nums[end_idx]):\n",
    "                ans[highest_idx] = nums[start_idx]**2\n",
    "                start_idx +=1\n",
    "            else:\n",
    "                ans[highest_idx] = nums[end_idx]**2\n",
    "                end_idx-=1\n",
    "            highest_idx-=1\n",
    "        return ans\n"
   ]
  },
  {
   "cell_type": "code",
   "execution_count": 26,
   "metadata": {},
   "outputs": [
    {
     "data": {
      "text/plain": [
       "[0, 1, 9, 16, 100]"
      ]
     },
     "execution_count": 26,
     "metadata": {},
     "output_type": "execute_result"
    }
   ],
   "source": [
    "Solution().sortedSquares_2([-4,-1,0,3,10])"
   ]
  },
  {
   "cell_type": "code",
   "execution_count": 27,
   "metadata": {},
   "outputs": [
    {
     "data": {
      "text/plain": [
       "[4, 9, 9, 49, 121]"
      ]
     },
     "execution_count": 27,
     "metadata": {},
     "output_type": "execute_result"
    }
   ],
   "source": [
    "Solution().sortedSquares_2([-7,-3,2,3,11])"
   ]
  },
  {
   "cell_type": "code",
   "execution_count": 28,
   "metadata": {},
   "outputs": [
    {
     "data": {
      "text/plain": [
       "[1, 4, 9, 49]"
      ]
     },
     "execution_count": 28,
     "metadata": {},
     "output_type": "execute_result"
    }
   ],
   "source": [
    "Solution().sortedSquares_2([-7,-3,-2,-1])"
   ]
  },
  {
   "cell_type": "code",
   "execution_count": 29,
   "metadata": {},
   "outputs": [
    {
     "data": {
      "text/plain": [
       "[1, 25, 81, 121]"
      ]
     },
     "execution_count": 29,
     "metadata": {},
     "output_type": "execute_result"
    }
   ],
   "source": [
    "Solution().sortedSquares_2([1,5,9,11])"
   ]
  }
 ],
 "metadata": {
  "kernelspec": {
   "display_name": "base",
   "language": "python",
   "name": "python3"
  },
  "language_info": {
   "codemirror_mode": {
    "name": "ipython",
    "version": 3
   },
   "file_extension": ".py",
   "mimetype": "text/x-python",
   "name": "python",
   "nbconvert_exporter": "python",
   "pygments_lexer": "ipython3",
   "version": "3.9.12"
  }
 },
 "nbformat": 4,
 "nbformat_minor": 2
}
