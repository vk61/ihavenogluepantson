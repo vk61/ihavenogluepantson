{
 "cells": [
  {
   "cell_type": "markdown",
   "metadata": {},
   "source": [
    "https://leetcode.com/problems/3sum/description/\n",
    "\n",
    "Given an integer array nums, return all the triplets [nums[i], nums[j], nums[k]] such that i != j, i != k, and j != k, and nums[i] + nums[j] + nums[k] == 0.\n",
    "\n",
    "Notice that the solution set must not contain duplicate triplets.\n",
    "\n",
    "3 <= nums.length <= 3000\n",
    "\n",
    "This problem follows the Two Pointers pattern and shares similarities with Pair with Target Sum. A couple of differences are that the input array is not sorted and instead of a pair we need to find triplets with a target sum of zero.\n",
    "\n",
    "To follow a similar approach, first, we will sort the array and then iterate through it taking one number at a time. Let’s say during our iteration we are at number X, so we need to find Y and Z such that X + Y + Z == 0. At this stage, our problem translates into finding a pair whose sum is equal to -X (as from the above equation Y + Z == -X).\n",
    "\n",
    "Another difference from Pair with Target Sum is that we need to find all the unique triplets. To handle this, we have to skip any duplicate number. Since we will be sorting the array, so all the duplicate numbers will be next to each other and are easier to skip.\n",
    "\n",
    "Sorting the array will take O(N * logN). The searchPair() function will take O(N). As we are calling searchPair() for every number in the input array, this means that overall searchTriplets() will take O(N * logN + N^2), which is asymptotically equivalent to O(N^2).\n",
    "Ignoring the space required for the output array, the space complexity of the above algorithm will be O(N) which is required for sorting.\n",
    "\n",
    "https://leetcode.com/problems/3sum-closest/\n",
    "\n",
    "Given an array of unsorted numbers and a targetSum, find a triplet in the array whose sum is as close to the targetSum as possible, return the sum of the triplet. If there are more than one such triplet, return the sum of the triplet with the smallest sum.\n",
    "\n",
    "This problem follows the Two Pointers pattern and is quite similar to Triplet Sum to Zero.\n",
    "\n",
    "https://leetcode.com/problems/3sum-smaller/\n",
    "\n",
    "Given an array arr of unsorted numbers and a target sum, count all triplets in it such that arr[i] + arr[j] + arr[k] < target where i, j, and k are three different indices. Write a function to return the count of such triplets."
   ]
  },
  {
   "cell_type": "code",
   "execution_count": 24,
   "metadata": {},
   "outputs": [],
   "source": [
    "from typing import List\n",
    "\n",
    "\n",
    "class Solution:\n",
    "    def threeSum(self, nums: List[int]) -> List[List[int]]:\n",
    "        res = []\n",
    "        nums.sort()\n",
    "\n",
    "        for i in range(len(nums)):\n",
    "            if i > 0 and nums[i] == nums[i-1]:\n",
    "                continue\n",
    "            \n",
    "            j = i + 1\n",
    "            k = len(nums) - 1\n",
    "\n",
    "            while j < k:\n",
    "                total = nums[i] + nums[j] + nums[k]\n",
    "\n",
    "                if total > 0:\n",
    "                    k -= 1\n",
    "                elif total < 0:\n",
    "                    j += 1\n",
    "                else:\n",
    "                    res.append([nums[i], nums[j], nums[k]])\n",
    "                    j += 1\n",
    "\n",
    "                    while nums[j] == nums[j-1] and j < k:\n",
    "                        j += 1\n",
    "        \n",
    "        return res\n",
    "    \n",
    "    def threeSumClosest(self, nums: List[int], target: int) -> int:\n",
    "        closest_sum = float('inf')\n",
    "        nums.sort()\n",
    "        arr_size = len(nums)\n",
    "        for i in range(arr_size):\n",
    "            j = i + 1\n",
    "            k = arr_size - 1\n",
    "            while j < k:\n",
    "                total = nums[i]+nums[j]+nums[k]\n",
    "                if abs(target-total) < abs(target-closest_sum):\n",
    "                    closest_sum = total\n",
    "                if total > target:\n",
    "                    k -= 1\n",
    "                elif total < target:\n",
    "                    j += 1\n",
    "                else:\n",
    "                    return total\n",
    "        return closest_sum\n",
    "    def threeSumSmaller(self, nums: List[int], target: int) -> int:\n",
    "            # Sort the input array to use the two-pointer approach effectively\n",
    "            nums.sort()\n",
    "            # Initialize the count of triplets with the sum smaller than target\n",
    "            count = 0\n",
    "            # Get the length of nums\n",
    "            n = len(nums)\n",
    "        \n",
    "            # Iterate through the array. Since we are looking for triplets, we stop at n - 2\n",
    "            for i in range(n - 2):\n",
    "                # Initialize two pointers, one after the current element and one at the end\n",
    "                left, right = i + 1, n - 1\n",
    "                # Use two pointers to find the pair whose sum with nums[i] is smaller than target\n",
    "                while left < right:\n",
    "                    # Calculate the sum of the current triplet\n",
    "                    triplet_sum = nums[i] + nums[left] + nums[right]\n",
    "                    # If the sum is smaller than target, all elements between left and right\n",
    "                    # form valid triplets with nums[i] because the array is sorted\n",
    "                    if triplet_sum < target:\n",
    "                        # Add the number of valid triplets to the count\n",
    "                        count += right - left\n",
    "                        # Move the left pointer to the right to look for new triplets\n",
    "                        left += 1\n",
    "                    else:\n",
    "                        # If the sum is equal to or greater than target, move the right pointer\n",
    "                        # to the left to reduce the sum\n",
    "                        right -= 1\n",
    "        \n",
    "            # Return the total count of triplets with the sum smaller than target\n",
    "            return count"
   ]
  },
  {
   "cell_type": "code",
   "execution_count": 75,
   "metadata": {},
   "outputs": [
    {
     "data": {
      "text/plain": [
       "[[-1, 0, 1], [-1, -1, 2]]"
      ]
     },
     "execution_count": 75,
     "metadata": {},
     "output_type": "execute_result"
    }
   ],
   "source": [
    "Solution().threeSum([-1,0,1,2,-1,-4])"
   ]
  },
  {
   "cell_type": "code",
   "execution_count": 80,
   "metadata": {},
   "outputs": [
    {
     "data": {
      "text/plain": [
       "[[0, 0, 0]]"
      ]
     },
     "execution_count": 80,
     "metadata": {},
     "output_type": "execute_result"
    }
   ],
   "source": [
    "Solution().threeSum([0,0,0])"
   ]
  },
  {
   "cell_type": "code",
   "execution_count": 27,
   "metadata": {},
   "outputs": [
    {
     "data": {
      "text/plain": [
       "2"
      ]
     },
     "execution_count": 27,
     "metadata": {},
     "output_type": "execute_result"
    }
   ],
   "source": [
    "Solution().threeSumClosest([-1,2,1,-4],1)"
   ]
  },
  {
   "cell_type": "code",
   "execution_count": 26,
   "metadata": {},
   "outputs": [
    {
     "data": {
      "text/plain": [
       "0"
      ]
     },
     "execution_count": 26,
     "metadata": {},
     "output_type": "execute_result"
    }
   ],
   "source": [
    "Solution().threeSumClosest([0,0,0],1)"
   ]
  }
 ],
 "metadata": {
  "kernelspec": {
   "display_name": "base",
   "language": "python",
   "name": "python3"
  },
  "language_info": {
   "codemirror_mode": {
    "name": "ipython",
    "version": 3
   },
   "file_extension": ".py",
   "mimetype": "text/x-python",
   "name": "python",
   "nbconvert_exporter": "python",
   "pygments_lexer": "ipython3",
   "version": "3.9.12"
  }
 },
 "nbformat": 4,
 "nbformat_minor": 2
}
