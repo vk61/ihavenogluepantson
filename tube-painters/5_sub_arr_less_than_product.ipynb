{
 "cells": [
  {
   "cell_type": "markdown",
   "metadata": {},
   "source": [
    "https://leetcode.com/problems/subarray-product-less-than-k/\n",
    "\n",
    "Given an array with positive numbers and a targetSum, find all of its contiguous subarrays whose product is less than the targetSum.\n",
    "\n",
    "Used sliding window to solve the problem"
   ]
  },
  {
   "cell_type": "code",
   "execution_count": 43,
   "metadata": {},
   "outputs": [],
   "source": [
    "from typing import List\n",
    "\n",
    "\n",
    "class Solution:\n",
    "    def numSubarrayProductLessThanK(self, nums: List[int], k: int) -> int:\n",
    "        window_start = 0\n",
    "        curr_prod = 1\n",
    "        count = 0\n",
    "        for window_end,val in enumerate(nums):\n",
    "            curr_prod *= val\n",
    "            while curr_prod >= k and window_start <=  window_end:\n",
    "                curr_prod //= nums[window_start]\n",
    "                window_start += 1\n",
    "            count += window_end-window_start+1\n",
    "        return count\n",
    "\n",
    "\n",
    "        "
   ]
  },
  {
   "cell_type": "code",
   "execution_count": 44,
   "metadata": {},
   "outputs": [
    {
     "data": {
      "text/plain": [
       "8"
      ]
     },
     "execution_count": 44,
     "metadata": {},
     "output_type": "execute_result"
    }
   ],
   "source": [
    "Solution().numSubarrayProductLessThanK([10,5,2,6],100)"
   ]
  },
  {
   "cell_type": "code",
   "execution_count": 45,
   "metadata": {},
   "outputs": [
    {
     "data": {
      "text/plain": [
       "0"
      ]
     },
     "execution_count": 45,
     "metadata": {},
     "output_type": "execute_result"
    }
   ],
   "source": [
    "Solution().numSubarrayProductLessThanK([1,2,3],0)"
   ]
  },
  {
   "cell_type": "code",
   "execution_count": 46,
   "metadata": {},
   "outputs": [
    {
     "data": {
      "text/plain": [
       "18"
      ]
     },
     "execution_count": 46,
     "metadata": {},
     "output_type": "execute_result"
    }
   ],
   "source": [
    "Solution().numSubarrayProductLessThanK([10,9,10,4,3,8,3,3,6,2,10,10,9,3],19)\n",
    "                                        # 0 1  2 3 4 5 6 7 8 9 10 11 12 13"
   ]
  },
  {
   "cell_type": "code",
   "execution_count": null,
   "metadata": {},
   "outputs": [],
   "source": []
  }
 ],
 "metadata": {
  "kernelspec": {
   "display_name": "base",
   "language": "python",
   "name": "python3"
  },
  "language_info": {
   "codemirror_mode": {
    "name": "ipython",
    "version": 3
   },
   "file_extension": ".py",
   "mimetype": "text/x-python",
   "name": "python",
   "nbconvert_exporter": "python",
   "pygments_lexer": "ipython3",
   "version": "3.9.12"
  }
 },
 "nbformat": 4,
 "nbformat_minor": 2
}
