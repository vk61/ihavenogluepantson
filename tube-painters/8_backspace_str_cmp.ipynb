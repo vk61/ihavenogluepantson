{
 "cells": [
  {
   "cell_type": "markdown",
   "metadata": {},
   "source": [
    "https://leetcode.com/problems/backspace-string-compare/\n",
    "\n",
    "\n",
    "Given two strings s and t, return true if they are equal when both are typed into empty text editors. '#' means a backspace character.\n",
    "\n",
    "Note that after backspacing an empty text, the text will continue empty.\n",
    "\n",
    "Example 1:\n",
    "\n",
    "Input: s = \"ab#c\", t = \"ad#c\"\n",
    "Output: true\n",
    "Explanation: Both s and t become \"ac\".\n",
    "Example 2:\n",
    "\n",
    "Input: s = \"ab##\", t = \"c#d#\"\n",
    "Output: true\n",
    "Explanation: Both s and t become \"\".\n",
    "Example 3:\n",
    "\n",
    "Input: s = \"a#c\", t = \"b\"\n",
    "Output: false\n",
    "Explanation: s becomes \"c\" while t becomes \"b\"."
   ]
  },
  {
   "cell_type": "code",
   "execution_count": 46,
   "metadata": {},
   "outputs": [],
   "source": [
    "class Solution:\n",
    "    def parseBackspaceString(self,s):\n",
    "        idx = 0\n",
    "        s = list(s)\n",
    "        for val in s:\n",
    "            if val != \"#\":\n",
    "                s[idx] = val\n",
    "                idx += 1\n",
    "            elif idx > 0:\n",
    "                idx -= 1\n",
    "        return ''.join(s[:idx])\n",
    "\n",
    "    def backspaceCompare(self, s: str, t: str) -> bool:\n",
    "        s = self.parseBackspaceString(s)\n",
    "        t = self.parseBackspaceString(t)\n",
    "        print(s,t)\n",
    "        return t == s"
   ]
  },
  {
   "cell_type": "code",
   "execution_count": 33,
   "metadata": {},
   "outputs": [
    {
     "data": {
      "text/plain": [
       "False"
      ]
     },
     "execution_count": 33,
     "metadata": {},
     "output_type": "execute_result"
    }
   ],
   "source": [
    "Solution().backspaceCompare(\"ac#\",\"ab\")"
   ]
  },
  {
   "cell_type": "code",
   "execution_count": 34,
   "metadata": {},
   "outputs": [
    {
     "data": {
      "text/plain": [
       "True"
      ]
     },
     "execution_count": 34,
     "metadata": {},
     "output_type": "execute_result"
    }
   ],
   "source": [
    "Solution().backspaceCompare(\"ab#c\",\"ad#c\")"
   ]
  },
  {
   "cell_type": "code",
   "execution_count": 47,
   "metadata": {},
   "outputs": [
    {
     "name": "stdout",
     "output_type": "stream",
     "text": [
      "f f\n"
     ]
    },
    {
     "data": {
      "text/plain": [
       "True"
      ]
     },
     "execution_count": 47,
     "metadata": {},
     "output_type": "execute_result"
    }
   ],
   "source": [
    "Solution().backspaceCompare(\"y#fo##f\",\"y#f#o##f\")"
   ]
  }
 ],
 "metadata": {
  "kernelspec": {
   "display_name": "base",
   "language": "python",
   "name": "python3"
  },
  "language_info": {
   "codemirror_mode": {
    "name": "ipython",
    "version": 3
   },
   "file_extension": ".py",
   "mimetype": "text/x-python",
   "name": "python",
   "nbconvert_exporter": "python",
   "pygments_lexer": "ipython3",
   "version": "3.9.12"
  }
 },
 "nbformat": 4,
 "nbformat_minor": 2
}
