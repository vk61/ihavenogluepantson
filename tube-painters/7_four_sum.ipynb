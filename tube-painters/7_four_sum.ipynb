{
 "cells": [
  {
   "cell_type": "markdown",
   "metadata": {},
   "source": [
    "https://leetcode.com/problems/4sum\n",
    "\n",
    "\n",
    "Given an array nums of n integers, return an array of all the unique quadruplets [nums[a], nums[b], nums[c], nums[d]] such that:\n",
    "\n",
    "0 <= a, b, c, d < n\n",
    "a, b, c, and d are distinct.\n",
    "nums[a] + nums[b] + nums[c] + nums[d] == target\n",
    "\n",
    "Constraints:\n",
    "\n",
    "1 <= nums.length <= 200\n",
    "-109 <= nums[i] <= 109\n",
    "-109 <= target <= 109\n",
    "\n",
    "This is similar to three sum problem and the completxity will be O(N^3)\n",
    "\n",
    "Based on the constraints and input size it is quite reasonable."
   ]
  },
  {
   "cell_type": "code",
   "execution_count": 8,
   "metadata": {},
   "outputs": [],
   "source": [
    "from typing import List\n",
    "\n",
    "\n",
    "class Solution:\n",
    "    def fourSum(self, nums: List[int], target: int) -> List[List[int]]:\n",
    "        arr_size = len(nums)\n",
    "        nums.sort()\n",
    "        ans = []\n",
    "        for first in range(arr_size-2):\n",
    "            if first > 0  and nums[first] == nums[first-1]:\n",
    "                continue\n",
    "            for second in range(first+1,arr_size-1):\n",
    "                if second > first+1 and  nums[second] == nums[second-1]:\n",
    "                    continue\n",
    "                left = second + 1\n",
    "                right = arr_size - 1\n",
    "                while left  < right:\n",
    "                    total = nums[first]+nums[second]+nums[left]+nums[right]\n",
    "                    if total > target:\n",
    "                        right -= 1\n",
    "                    elif total < target:\n",
    "                        left += 1\n",
    "                    else:\n",
    "                        ans.append([nums[first],nums[second],nums[left],nums[right]])\n",
    "                        left += 1\n",
    "                        while nums[left]==nums[left-1] and left < right:\n",
    "                            left += 1\n",
    "        return ans\n"
   ]
  },
  {
   "cell_type": "code",
   "execution_count": 6,
   "metadata": {},
   "outputs": [
    {
     "data": {
      "text/plain": [
       "[[-2, -1, 1, 2], [-2, 0, 0, 2], [-1, 0, 0, 1]]"
      ]
     },
     "execution_count": 6,
     "metadata": {},
     "output_type": "execute_result"
    }
   ],
   "source": [
    "Solution().fourSum([1,0,-1,0,-2,2],0)"
   ]
  },
  {
   "cell_type": "code",
   "execution_count": 9,
   "metadata": {},
   "outputs": [
    {
     "data": {
      "text/plain": [
       "[[2, 2, 2, 2]]"
      ]
     },
     "execution_count": 9,
     "metadata": {},
     "output_type": "execute_result"
    }
   ],
   "source": [
    "Solution().fourSum([2,2,2,2,2],8)"
   ]
  }
 ],
 "metadata": {
  "kernelspec": {
   "display_name": "base",
   "language": "python",
   "name": "python3"
  },
  "language_info": {
   "codemirror_mode": {
    "name": "ipython",
    "version": 3
   },
   "file_extension": ".py",
   "mimetype": "text/x-python",
   "name": "python",
   "nbconvert_exporter": "python",
   "pygments_lexer": "ipython3",
   "version": "3.9.12"
  }
 },
 "nbformat": 4,
 "nbformat_minor": 2
}
