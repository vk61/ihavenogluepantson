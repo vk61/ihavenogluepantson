{
 "cells": [
  {
   "cell_type": "markdown",
   "metadata": {},
   "source": [
    "https://leetcode.com/problems/shortest-subarray-to-be-removed-to-make-array-sorted\n",
    "\n",
    "Given an integer array arr, remove a subarray (can be empty) from arr such that the remaining elements in arr are non-decreasing.\n",
    "\n",
    "Return the length of the shortest subarray to remove.\n",
    "\n",
    " Using two pointers, left and right. The pointers represent the prefix blue array arr[0:left] and suffix green array arr[right:] consisting of the remaining sorted array we are considering. Initially, left is set to 0, meaning we’re considering keeping the first element of the blue array. Right is set to the index of the start of the green subarray, meaning we consider keeping the entirety of the green subarray.\n",
    "\n",
    "Using this two-pointer method, for each position of left, we search for the smallest right where arr[left] <= arr[right]. If this condition holds, then we have found a valid subarray candidate to remove—the subarray between arr[left] and arr[right], which has a length of right - left - 1. If arr[left] > arr[right], we increment right to find the next possible match. Once a valid right is found, we advance left to the next element, repeating the process.\n",
    "\n",
    "Why arr[left] <= arr[right] is Important (Click Here!)\n",
    "\n",
    "Sorted Left Portion: The elements before left (i.e., arr[0:left]) are already sorted. Therefore, arr[left-1] is the largest element in this prefix.\n",
    "\n",
    "Sorted Right Portion: The elements from right onwards (i.e., arr[right:]) are sorted as well. Thus, arr[right] is the smallest element in the suffix.\n",
    "\n",
    "For the two sorted sections to form one valid sorted sequence when combined, we need the largest element in the left portion (arr[left-1]) to be less than or equal to the smallest element in the right portion (arr[right]), because:\n",
    "\n",
    "If arr[left-1] is greater than arr[right], it means that after removing the unsorted middle section, the combined array would not be sorted.\n",
    "If arr[left-1] <= arr[right], it guarantees that the largest element from the left side is smaller than or equal to the smallest element from the right side, ensuring the merged sequence is still sorted."
   ]
  },
  {
   "cell_type": "code",
   "execution_count": 37,
   "metadata": {},
   "outputs": [],
   "source": [
    "from typing import List\n",
    "\n",
    "\n",
    "class Solution:\n",
    "    def findLengthOfShortestSubarray(self, arr: List[int]) -> int:\n",
    "        right = len(arr) - 1\n",
    "        while right > 0 and arr[right] >= arr[right-1]:\n",
    "            right -= 1\n",
    "        left = 0\n",
    "        ans = right \n",
    "        while left < right and (left == 0 or arr[left] >= arr[left-1]):\n",
    "            while right <  len(arr) and arr[right] < arr[left]:\n",
    "                right += 1\n",
    "            ans = min(ans,right-left-1)\n",
    "            left += 1\n",
    "        return ans"
   ]
  },
  {
   "cell_type": "code",
   "execution_count": 38,
   "metadata": {},
   "outputs": [
    {
     "data": {
      "text/plain": [
       "3"
      ]
     },
     "execution_count": 38,
     "metadata": {},
     "output_type": "execute_result"
    }
   ],
   "source": [
    "Solution().findLengthOfShortestSubarray([1,2,3,10,4,2,3,5])"
   ]
  },
  {
   "cell_type": "code",
   "execution_count": 39,
   "metadata": {},
   "outputs": [
    {
     "data": {
      "text/plain": [
       "4"
      ]
     },
     "execution_count": 39,
     "metadata": {},
     "output_type": "execute_result"
    }
   ],
   "source": [
    "Solution().findLengthOfShortestSubarray([5,4,3,2,1])"
   ]
  },
  {
   "cell_type": "code",
   "execution_count": 40,
   "metadata": {},
   "outputs": [
    {
     "data": {
      "text/plain": [
       "0"
      ]
     },
     "execution_count": 40,
     "metadata": {},
     "output_type": "execute_result"
    }
   ],
   "source": [
    "Solution().findLengthOfShortestSubarray([1,2,3])"
   ]
  }
 ],
 "metadata": {
  "kernelspec": {
   "display_name": "base",
   "language": "python",
   "name": "python3"
  },
  "language_info": {
   "codemirror_mode": {
    "name": "ipython",
    "version": 3
   },
   "file_extension": ".py",
   "mimetype": "text/x-python",
   "name": "python",
   "nbconvert_exporter": "python",
   "pygments_lexer": "ipython3",
   "version": "3.9.12"
  }
 },
 "nbformat": 4,
 "nbformat_minor": 2
}
