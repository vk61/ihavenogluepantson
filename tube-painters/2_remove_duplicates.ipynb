{
 "cells": [
  {
   "cell_type": "markdown",
   "metadata": {},
   "source": [
    "https://leetcode.com/problems/remove-duplicates-from-sorted-array/description/\n",
    "\n",
    "Remove duplicated from a sorted array. All the duplicate numbers will be together.\n",
    "\n",
    "Hint - You have to skip the zeroth elements of the array , that guy is by default uniq and that is** the base case.**\n",
    "\n",
    "\n",
    "https://leetcode.com/problems/remove-element/description/\n",
    "\n",
    "This is similar to the previous problem instead of checking for duplicates , we ought to check for the input val in the arr\n",
    "\n",
    ">## The intuation -  \n",
    ">Both the problems solutions are enumerating the array until the adjacent elements are not equal and the element is not the input val "
   ]
  },
  {
   "cell_type": "code",
   "execution_count": 31,
   "metadata": {},
   "outputs": [],
   "source": [
    "from typing import List\n",
    "\n",
    "\n",
    "class Solution:\n",
    "    def removeElement(self, nums: List[int], val: int) -> int:\n",
    "        len_arr_without_val = 0\n",
    "        last_val_not_occured_idx = 0\n",
    "        j = 0\n",
    "        while j < len(nums):\n",
    "            if nums[j] != val:\n",
    "                nums[last_val_not_occured_idx] = nums[j]\n",
    "                last_val_not_occured_idx +=1\n",
    "                len_arr_without_val+=1\n",
    "            j+=1\n",
    "        return len_arr_without_val\n",
    "    def removeDuplicates(self, nums: List[int]) -> int:\n",
    "        len_no_dup_arr = 1\n",
    "        last_uniq_idx = 1\n",
    "        j = 1\n",
    "        while j < len(nums):\n",
    "            if nums[j] != nums[j-1]:\n",
    "                len_no_dup_arr +=1\n",
    "                nums[last_uniq_idx] = nums[j]\n",
    "                last_uniq_idx +=1\n",
    "            j+=1\n",
    "        return len_no_dup_arr"
   ]
  },
  {
   "cell_type": "code",
   "execution_count": 21,
   "metadata": {},
   "outputs": [
    {
     "name": "stdout",
     "output_type": "stream",
     "text": [
      "5\n",
      "[0, 1, 2, 3, 4, 2, 2, 3, 3, 4]\n"
     ]
    }
   ],
   "source": [
    "k = [0,0,1,1,1,2,2,3,3,4]\n",
    "print(Solution().removeDuplicates(k))\n",
    "print(k)\n"
   ]
  },
  {
   "cell_type": "code",
   "execution_count": 22,
   "metadata": {},
   "outputs": [
    {
     "name": "stdout",
     "output_type": "stream",
     "text": [
      "2\n",
      "[1, 2, 2]\n"
     ]
    }
   ],
   "source": [
    "k = [1,1,2]\n",
    "print(Solution().removeDuplicates(k))\n",
    "print(k)\n"
   ]
  },
  {
   "cell_type": "code",
   "execution_count": 23,
   "metadata": {},
   "outputs": [
    {
     "name": "stdout",
     "output_type": "stream",
     "text": [
      "2\n",
      "[1, 2]\n"
     ]
    }
   ],
   "source": [
    "k = [1,2]\n",
    "print(Solution().removeDuplicates(k))\n",
    "print(k)"
   ]
  },
  {
   "cell_type": "code",
   "execution_count": 33,
   "metadata": {},
   "outputs": [
    {
     "name": "stdout",
     "output_type": "stream",
     "text": [
      "2\n",
      "[2, 2, 2, 3]\n"
     ]
    }
   ],
   "source": [
    "k = [3,2,2,3]\n",
    "val = 3\n",
    "print(Solution().removeElement(k,val))\n",
    "print(k)"
   ]
  },
  {
   "cell_type": "code",
   "execution_count": 32,
   "metadata": {},
   "outputs": [
    {
     "name": "stdout",
     "output_type": "stream",
     "text": [
      "5\n",
      "[0, 1, 3, 0, 4, 0, 4, 2]\n"
     ]
    }
   ],
   "source": [
    "k = [0,1,2,2,3,0,4,2]\n",
    "val = 2\n",
    "print(Solution().removeElement(k,val))\n",
    "print(k)"
   ]
  }
 ],
 "metadata": {
  "kernelspec": {
   "display_name": "base",
   "language": "python",
   "name": "python3"
  },
  "language_info": {
   "codemirror_mode": {
    "name": "ipython",
    "version": 3
   },
   "file_extension": ".py",
   "mimetype": "text/x-python",
   "name": "python",
   "nbconvert_exporter": "python",
   "pygments_lexer": "ipython3",
   "version": "3.9.12"
  }
 },
 "nbformat": 4,
 "nbformat_minor": 2
}
