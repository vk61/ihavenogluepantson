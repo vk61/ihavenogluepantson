{
 "cells": [
  {
   "cell_type": "markdown",
   "metadata": {},
   "source": [
    "https://leetcode.com/problems/fruit-into-baskets/\n",
    "https://leetcode.com/problems/longest-substring-with-at-most-k-distinct-characters/\n",
    "https://leetcode.com/problems/longest-substring-with-at-most-two-distinct-characters/\n",
    "\n",
    "The maximum window size is asked but the window sum is not given like the previous problem, \n",
    "instead the condition is K distinct characters .where the K will be the input.\n",
    "Since we need to maintain the frequency of characters,\n",
    "HashMap data structure is used along with the sliding window algorithm to solve this problem.\n",
    "\n",
    "In the fruit problem , the K is 2\n",
    "\n",
    "The above algorithms time complexity will be O(N), where N is the number of characters in the input array. The outer for loop runs for all characters, and the inner while loop processes each character only once; therefore, the time complexity of the algorithm will be O(N+N), which is asymptotically equivalent to O(N).\n",
    "The algorithm runs in constant space O(1) as there can be a maximum of three types of fruits stored in the frequency map."
   ]
  },
  {
   "cell_type": "code",
   "execution_count": 23,
   "metadata": {},
   "outputs": [],
   "source": [
    "from typing import List\n",
    "from collections import defaultdict\n",
    "\n",
    "class Solution:\n",
    "    def totalFruit(self, fruits: List[int]) -> int:\n",
    "        window_start = 0\n",
    "        fruit_map = defaultdict(int)\n",
    "        window_size = -1\n",
    "        for window_end,val in enumerate(fruits):\n",
    "            fruit_map[val]+=1\n",
    "            while len(fruit_map) > 2:\n",
    "                fruit_map[fruits[window_start]] -=1\n",
    "                if fruit_map[fruits[window_start]] == 0:\n",
    "                    del fruit_map[fruits[window_start]]\n",
    "                window_start += 1\n",
    "            window_size = max(window_size,window_end-window_start+1)\n",
    "            \n",
    "        return window_size"
   ]
  },
  {
   "cell_type": "code",
   "execution_count": 24,
   "metadata": {},
   "outputs": [
    {
     "name": "stdout",
     "output_type": "stream",
     "text": [
      "3\n"
     ]
    }
   ],
   "source": [
    "f = Solution().totalFruit([1,2,1])\n",
    "print(f)"
   ]
  }
 ],
 "metadata": {
  "kernelspec": {
   "display_name": "base",
   "language": "python",
   "name": "python3"
  },
  "language_info": {
   "codemirror_mode": {
    "name": "ipython",
    "version": 3
   },
   "file_extension": ".py",
   "mimetype": "text/x-python",
   "name": "python",
   "nbconvert_exporter": "python",
   "pygments_lexer": "ipython3",
   "version": "3.9.12"
  }
 },
 "nbformat": 4,
 "nbformat_minor": 2
}
