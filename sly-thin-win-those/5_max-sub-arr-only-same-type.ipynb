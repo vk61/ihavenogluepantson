{
 "cells": [
  {
   "cell_type": "markdown",
   "metadata": {},
   "source": [
    "https://leetcode.com/problems/longest-repeating-character-replacement/description/\n",
    "\n",
    "Find the maximum sub-array with same characters and you can replace atmost k characters to find the longest substring with same characters.\n",
    "\n",
    "Finding the character which has more duplicates in the string  will help us solve the problem. Along the way we can shrink the window.\n",
    "\n",
    "Similar problem https://leetcode.com/problems/max-consecutive-ones-iii/description/\n",
    "but no character map is needed here"
   ]
  },
  {
   "cell_type": "code",
   "execution_count": null,
   "metadata": {},
   "outputs": [],
   "source": [
    "from collections import defaultdict\n",
    "from typing import List\n",
    "\n",
    "\n",
    "class Solution:\n",
    "    def characterReplacement(self, s: str, k: int) -> int:\n",
    "        window_start = 0\n",
    "        window_size = 0\n",
    "        char_map  = defaultdict(int)\n",
    "        max_repeating_char = -1\n",
    "        for window_end,val in enumerate(s):\n",
    "            # print(window_start,window_end,window_size,char_map,max_repeating_char)\n",
    "            char_map[val]+=1\n",
    "            max_repeating_char = max(max_repeating_char,char_map[val])\n",
    "            if (window_end - window_start + 1 - max_repeating_char) > k:\n",
    "                char_map[s[window_start]]-=1\n",
    "                window_start +=1\n",
    "            window_size = max(window_size,window_end-window_start+1)\n",
    "        return window_size\n",
    "    def longestOnes(self, nums: List[int], k: int) -> int:\n",
    "        window_start = 0\n",
    "        window_size = 0\n",
    "        max_ones = 0\n",
    "        for window_end,val in enumerate(nums):\n",
    "            if val == 1:\n",
    "                max_ones+=1\n",
    "            if (window_end-window_start+1-max_ones) > k:\n",
    "                if nums[window_start] == 1:\n",
    "                    max_ones-=1\n",
    "                window_start += 1\n",
    "                    \n",
    "            window_size = max(window_size,window_end-window_start+1)\n",
    "        return window_size"
   ]
  },
  {
   "cell_type": "code",
   "execution_count": 38,
   "metadata": {},
   "outputs": [
    {
     "data": {
      "text/plain": [
       "1"
      ]
     },
     "execution_count": 38,
     "metadata": {},
     "output_type": "execute_result"
    }
   ],
   "source": [
    "Solution().characterReplacement(\"ABCDEFGH\",0)"
   ]
  }
 ],
 "metadata": {
  "kernelspec": {
   "display_name": "base",
   "language": "python",
   "name": "python3"
  },
  "language_info": {
   "codemirror_mode": {
    "name": "ipython",
    "version": 3
   },
   "file_extension": ".py",
   "mimetype": "text/x-python",
   "name": "python",
   "nbconvert_exporter": "python",
   "pygments_lexer": "ipython3",
   "version": "3.9.12"
  }
 },
 "nbformat": 4,
 "nbformat_minor": 2
}
