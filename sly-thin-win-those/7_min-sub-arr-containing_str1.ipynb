{
 "cells": [
  {
   "cell_type": "markdown",
   "metadata": {},
   "source": [
    "https://leetcode.com/problems/minimum-window-substring/\n",
    "\n",
    "Given two strings s and t of lengths m and n respectively, return the minimum window \n",
    "substring\n",
    " of s such that every character in t (including duplicates) is included in the window. If there is no such substring, return the empty string \"\".\n",
    "\n",
    "it is similar to finding anagrams but the window size is not constant. We already know the way to find a minimum sun arr of given sum , check 2_min-sub-arr-given_sum.ipynb"
   ]
  },
  {
   "cell_type": "code",
   "execution_count": 5,
   "metadata": {},
   "outputs": [],
   "source": [
    "from collections import defaultdict\n",
    "class Solution:\n",
    "    def minWindow(self, s: str, t: str) -> str:\n",
    "        char_map = defaultdict(int)\n",
    "        uniq_char_cnt = 0\n",
    "        for char in t:\n",
    "            if char not in char_map:\n",
    "                uniq_char_cnt+=1\n",
    "            char_map[char]+=1\n",
    "        window_start = 0\n",
    "        matched = 0\n",
    "        window_size = float(\"inf\")\n",
    "        min_window_size_str = \"\"\n",
    "        for window_end,val in enumerate(s):\n",
    "            if val in char_map:\n",
    "                char_map[val]-=1\n",
    "                if char_map[val]==0:\n",
    "                    matched+=1\n",
    "            while matched == uniq_char_cnt:\n",
    "                if window_size > window_end-window_start+1:\n",
    "                    window_size = window_end-window_start+1\n",
    "                    min_window_size_str = s[window_start:window_end+1]\n",
    "                if s[window_start] in char_map:\n",
    "                    char_map[s[window_start]] +=1\n",
    "                    if char_map[s[window_start]] == 1:\n",
    "                        matched -=1\n",
    "                window_start+=1\n",
    "\n",
    "        return min_window_size_str"
   ]
  },
  {
   "cell_type": "code",
   "execution_count": 8,
   "metadata": {},
   "outputs": [
    {
     "data": {
      "text/plain": [
       "'BANC'"
      ]
     },
     "execution_count": 8,
     "metadata": {},
     "output_type": "execute_result"
    }
   ],
   "source": [
    "Solution().minWindow(\"ADOBECODEBANC\",\"ABC\")"
   ]
  }
 ],
 "metadata": {
  "kernelspec": {
   "display_name": "base",
   "language": "python",
   "name": "python3"
  },
  "language_info": {
   "codemirror_mode": {
    "name": "ipython",
    "version": 3
   },
   "file_extension": ".py",
   "mimetype": "text/x-python",
   "name": "python",
   "nbconvert_exporter": "python",
   "pygments_lexer": "ipython3",
   "version": "3.9.12"
  }
 },
 "nbformat": 4,
 "nbformat_minor": 2
}
