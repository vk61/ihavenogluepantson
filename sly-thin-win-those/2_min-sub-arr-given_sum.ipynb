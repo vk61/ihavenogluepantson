{
 "cells": [
  {
   "cell_type": "markdown",
   "metadata": {},
   "source": [
    "In the previous problems the size of sub array was given.\n",
    "But here the best size of sub array is to be found given the sum of sub array.\n",
    "\n",
    "https://leetcode.com/problems/minimum-size-subarray-sum/\n",
    "\n",
    "The time complexity of the above algorithm will be O(N). The outer for loop runs for all elements, and the inner while loop processes each element only once; therefore, the time complexity of the algorithm will be O(N+N), which is asymptotically equivalent to O(N).\n",
    "The algorithm runs in constant space O(1)."
   ]
  },
  {
   "cell_type": "code",
   "execution_count": null,
   "metadata": {},
   "outputs": [],
   "source": [
    "from typing import List\n",
    "\n",
    "\n",
    "class Solution:\n",
    "    def minSubArrayLen(self, target: int, nums: List[int]) -> int:\n",
    "        window_start = 0\n",
    "        window_sum = 0\n",
    "        window_size = float('inf')\n",
    "        for window_end,val in enumerate(nums):\n",
    "            window_sum += val\n",
    "            while window_sum >= target:\n",
    "                window_size = min(window_size,window_end-window_start+1)\n",
    "                window_sum -= nums[window_start]\n",
    "                window_start += 1\n",
    "        if window_size == float('inf'):\n",
    "            return 0\n",
    "        return window_size\n",
    "\n",
    "        "
   ]
  },
  {
   "cell_type": "markdown",
   "metadata": {},
   "source": [
    "<!-- https://leetcode.com/problems/minimum-size-subarray-sum/ -->\n",
    "\n"
   ]
  }
 ],
 "metadata": {
  "kernelspec": {
   "display_name": "base",
   "language": "python",
   "name": "python3"
  },
  "language_info": {
   "name": "python",
   "version": "3.9.12"
  }
 },
 "nbformat": 4,
 "nbformat_minor": 2
}
