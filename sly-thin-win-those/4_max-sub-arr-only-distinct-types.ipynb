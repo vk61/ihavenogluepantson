{
 "cells": [
  {
   "cell_type": "markdown",
   "metadata": {},
   "source": [
    "https://leetcode.com/problems/longest-substring-without-repeating-characters/description/\n",
    "\n",
    "It seems similiar to the 3rd problem, but the solution does not invole nested loops. \n",
    "Hint- we dont have to maintain the frequency , instead we have to be aware whether the characters has occured earlier or not. "
   ]
  },
  {
   "cell_type": "code",
   "execution_count": null,
   "metadata": {},
   "outputs": [],
   "source": [
    "class Solution:\n",
    "    def lengthOfLongestSubstring(self, s: str) -> int:\n",
    "        window_start = 0\n",
    "        l_map = {}\n",
    "        window_size = 0\n",
    "        for window_end,val in enumerate(s):\n",
    "            # print(\"s\",window_end,window_start,window_size,val,l_map)\n",
    "            if val not in l_map or (val in l_map and (l_map[val]<window_start)):\n",
    "                l_map[val] = window_end\n",
    "            else:\n",
    "                window_start = max(window_start+1,l_map[val]+1)\n",
    "                l_map[val]  = window_end\n",
    "            window_size = max(window_size,window_end-window_start+1)\n",
    "            \n",
    "        return window_size"
   ]
  },
  {
   "cell_type": "code",
   "execution_count": 24,
   "metadata": {},
   "outputs": [
    {
     "name": "stdout",
     "output_type": "stream",
     "text": [
      "s 0 0 0 t {}\n",
      "s 1 0 1 m {'t': 0}\n",
      "s 2 0 2 m {'t': 0, 'm': 1}\n",
      "s 3 2 2 z {'t': 0, 'm': 2}\n",
      "s 4 2 2 u {'t': 0, 'm': 2, 'z': 3}\n",
      "s 5 2 3 x {'t': 0, 'm': 2, 'z': 3, 'u': 4}\n",
      "s 6 2 4 t {'t': 0, 'm': 2, 'z': 3, 'u': 4, 'x': 5}\n"
     ]
    },
    {
     "data": {
      "text/plain": [
       "5"
      ]
     },
     "execution_count": 24,
     "metadata": {},
     "output_type": "execute_result"
    }
   ],
   "source": [
    "Solution().lengthOfLongestSubstring('tmmzuxt')"
   ]
  }
 ],
 "metadata": {
  "kernelspec": {
   "display_name": "base",
   "language": "python",
   "name": "python3"
  },
  "language_info": {
   "codemirror_mode": {
    "name": "ipython",
    "version": 3
   },
   "file_extension": ".py",
   "mimetype": "text/x-python",
   "name": "python",
   "nbconvert_exporter": "python",
   "pygments_lexer": "ipython3",
   "version": "3.9.12"
  }
 },
 "nbformat": 4,
 "nbformat_minor": 2
}
