{
 "cells": [
  {
   "cell_type": "markdown",
   "metadata": {},
   "source": [
    "I found sliding window patterns used in sub-array problems. The intuition is that sliding windows do not fold, they dont go wild. Sliding windows cover their tracks or hindges one by one like a train or like a sub-array."
   ]
  },
  {
   "cell_type": "markdown",
   "metadata": {},
   "source": [
    "https://leetcode.com/problems/maximum-average-subarray-i/\n",
    "https://leetcode.com/problems/largest-subarray-length-k/\n",
    "\n",
    "Both the problems gives the sub array size as input and asks us to find the best sum/average.\n",
    "We can calc the sum of subarrays, by decrementing the previous window sum by the first element value of the prev sub-array/window and incrementing the value by the last element in the current sub-array. Like this the - of first and + of last is done to till the nth ele.\n",
    "\n",
    "The time complexity of the above algorithm will be O(N)\n",
    "The space complexity of the above algorithm will be O(1)"
   ]
  },
  {
   "cell_type": "code",
   "execution_count": 1,
   "metadata": {},
   "outputs": [],
   "source": [
    "from typing import List\n",
    "\n",
    "\n",
    "class Solution:\n",
    "    def findMaxAverage(self, nums: List[int], k: int) -> float:\n",
    "        window_start = 0\n",
    "        max_avg = float('-inf')\n",
    "        sum = 0\n",
    "        for window_end,val in enumerate(nums):\n",
    "            sum += val\n",
    "            if window_end >= k-1:\n",
    "                max_avg = max(max_avg,sum/k)\n",
    "                sum -= nums[window_start]\n",
    "                window_start +=1\n",
    "        return max_avg"
   ]
  },
  {
   "cell_type": "code",
   "execution_count": 5,
   "metadata": {},
   "outputs": [
    {
     "name": "stdout",
     "output_type": "stream",
     "text": [
      "12.75\n"
     ]
    }
   ],
   "source": [
    "d = Solution().findMaxAverage([1,12,-5,-6,50,3],4)\n",
    "print(d)"
   ]
  }
 ],
 "metadata": {
  "kernelspec": {
   "display_name": "base",
   "language": "python",
   "name": "python3"
  },
  "language_info": {
   "codemirror_mode": {
    "name": "ipython",
    "version": 3
   },
   "file_extension": ".py",
   "mimetype": "text/x-python",
   "name": "python",
   "nbconvert_exporter": "python",
   "pygments_lexer": "ipython3",
   "version": "3.9.12"
  }
 },
 "nbformat": 4,
 "nbformat_minor": 2
}
