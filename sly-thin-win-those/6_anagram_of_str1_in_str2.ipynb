{
 "cells": [
  {
   "cell_type": "markdown",
   "metadata": {},
   "source": [
    "https://leetcode.com/problems/permutation-in-string/description/\n",
    "\n",
    "Develop an algorithm to find whether any permuation of string1 is a substring of string2.\n",
    "\n",
    "Both the problems are similar only the output varies\n",
    "\n",
    "https://leetcode.com/problems/find-all-anagrams-in-a-string/description/\n",
    "\n",
    "Find all the possible permutation of \"p\" string  in \"s\""
   ]
  },
  {
   "cell_type": "code",
   "execution_count": null,
   "metadata": {},
   "outputs": [],
   "source": [
    "\n",
    "from collections import defaultdict\n",
    "from typing import List\n",
    "\n",
    "\n",
    "class Solution:\n",
    "    def checkInclusion(self, s1: str, s2: str) -> bool:\n",
    "        char_freq = defaultdict(int)\n",
    "        uniq_char_cnt = 0\n",
    "        for val in s1:\n",
    "            if char_freq[val] == 0:\n",
    "                uniq_char_cnt +=1\n",
    "            char_freq[val]+=1\n",
    "\n",
    "        window_start = 0\n",
    "        window_size = len(s1)\n",
    "        matched = 0\n",
    "        for window_end,val in enumerate(s2):\n",
    "            # print(\"char\",window_end,val,window_start,char_freq,matched,uniq_char_cnt)\n",
    "            if val in char_freq:\n",
    "                char_freq[val]-=1\n",
    "                if char_freq[val]==0:\n",
    "                    matched +=1\n",
    "            if matched == uniq_char_cnt:\n",
    "                return True\n",
    "            elif (window_end-window_start+1) == window_size:\n",
    "                if s2[window_start] in char_freq:\n",
    "                    char_freq[s2[window_start]]+=1\n",
    "                    if char_freq[s2[window_start]] == 1:\n",
    "                        matched = matched - 1    \n",
    "                window_start = window_start + 1\n",
    "                    \n",
    "        return False\n",
    "    def findAnagrams(self, s: str, p: str) -> List[int]:\n",
    "        char_freq = defaultdict(int)\n",
    "        uniq_char_cnt = 0\n",
    "        for val in p:\n",
    "            if char_freq[val] == 0:\n",
    "                uniq_char_cnt +=1\n",
    "            char_freq[val]+=1\n",
    "\n",
    "        window_start = 0\n",
    "        window_size = len(p)\n",
    "        ans = []\n",
    "        matched = 0\n",
    "        for window_end,val in enumerate(s):\n",
    "            if val in char_freq:\n",
    "                char_freq[val]-=1\n",
    "                if char_freq[val]==0:\n",
    "                    matched +=1\n",
    "            if matched == uniq_char_cnt:\n",
    "                ans.append(window_start)\n",
    "            if (window_end-window_start+1) == window_size:\n",
    "                if s[window_start] in char_freq:\n",
    "                    char_freq[s[window_start]]+=1\n",
    "                    if char_freq[s[window_start]] == 1:\n",
    "                        matched = matched - 1    \n",
    "                window_start = window_start + 1\n",
    "        return ans\n",
    "        "
   ]
  },
  {
   "cell_type": "code",
   "execution_count": 98,
   "metadata": {},
   "outputs": [
    {
     "name": "stdout",
     "output_type": "stream",
     "text": [
      "char 0 o 0 defaultdict(<class 'int'>, {'h': 1, 'e': 1, 'l': 2, 'o': 1}) 0 4\n",
      "char 1 o 0 defaultdict(<class 'int'>, {'h': 1, 'e': 1, 'l': 2, 'o': 0}) 1 4\n",
      "char 2 o 0 defaultdict(<class 'int'>, {'h': 1, 'e': 1, 'l': 2, 'o': -1}) 1 4\n",
      "char 3 l 0 defaultdict(<class 'int'>, {'h': 1, 'e': 1, 'l': 2, 'o': -2}) 1 4\n",
      "char 4 l 0 defaultdict(<class 'int'>, {'h': 1, 'e': 1, 'l': 1, 'o': -2}) 1 4\n",
      "char 5 e 1 defaultdict(<class 'int'>, {'h': 1, 'e': 1, 'l': 0, 'o': -1}) 2 4\n",
      "char 6 o 2 defaultdict(<class 'int'>, {'h': 1, 'e': 0, 'l': 0, 'o': 0}) 3 4\n",
      "char 7 o 3 defaultdict(<class 'int'>, {'h': 1, 'e': 0, 'l': 0, 'o': 0}) 3 4\n",
      "char 8 o 4 defaultdict(<class 'int'>, {'h': 1, 'e': 0, 'l': 1, 'o': -1}) 2 4\n",
      "char 9 l 5 defaultdict(<class 'int'>, {'h': 1, 'e': 0, 'l': 2, 'o': -2}) 2 4\n",
      "char 10 e 6 defaultdict(<class 'int'>, {'h': 1, 'e': 1, 'l': 1, 'o': -2}) 1 4\n",
      "char 11 h 7 defaultdict(<class 'int'>, {'h': 1, 'e': 0, 'l': 1, 'o': -1}) 2 4\n"
     ]
    },
    {
     "data": {
      "text/plain": [
       "False"
      ]
     },
     "execution_count": 98,
     "metadata": {},
     "output_type": "execute_result"
    }
   ],
   "source": [
    "Solution().checkInclusion(\"hello\",\"ooolleoooleh\")"
   ]
  },
  {
   "cell_type": "code",
   "execution_count": 99,
   "metadata": {},
   "outputs": [
    {
     "name": "stdout",
     "output_type": "stream",
     "text": [
      "char 0 d 0 defaultdict(<class 'int'>, {'a': 1, 'd': 1, 'c': 1}) 0 3\n",
      "char 1 c 0 defaultdict(<class 'int'>, {'a': 1, 'd': 0, 'c': 1}) 1 3\n",
      "char 2 d 0 defaultdict(<class 'int'>, {'a': 1, 'd': 0, 'c': 0}) 2 3\n",
      "char 3 a 1 defaultdict(<class 'int'>, {'a': 1, 'd': 0, 'c': 0}) 2 3\n"
     ]
    },
    {
     "data": {
      "text/plain": [
       "True"
      ]
     },
     "execution_count": 99,
     "metadata": {},
     "output_type": "execute_result"
    }
   ],
   "source": [
    "\n",
    "Solution().checkInclusion(\"adc\",\"dcda\")"
   ]
  },
  {
   "cell_type": "code",
   "execution_count": 100,
   "metadata": {},
   "outputs": [
    {
     "name": "stdout",
     "output_type": "stream",
     "text": [
      "char 0 e 0 defaultdict(<class 'int'>, {'a': 1, 'b': 1}) 0 2\n",
      "char 1 i 0 defaultdict(<class 'int'>, {'a': 1, 'b': 1}) 0 2\n",
      "char 2 d 1 defaultdict(<class 'int'>, {'a': 1, 'b': 1}) 0 2\n",
      "char 3 b 2 defaultdict(<class 'int'>, {'a': 1, 'b': 1}) 0 2\n",
      "char 4 o 3 defaultdict(<class 'int'>, {'a': 1, 'b': 0}) 1 2\n",
      "char 5 a 4 defaultdict(<class 'int'>, {'a': 1, 'b': 1}) 0 2\n",
      "char 6 o 5 defaultdict(<class 'int'>, {'a': 0, 'b': 1}) 1 2\n",
      "char 7 o 6 defaultdict(<class 'int'>, {'a': 1, 'b': 1}) 0 2\n"
     ]
    },
    {
     "data": {
      "text/plain": [
       "False"
      ]
     },
     "execution_count": 100,
     "metadata": {},
     "output_type": "execute_result"
    }
   ],
   "source": [
    "\n",
    "Solution().checkInclusion(\"ab\",\"eidboaoo\")"
   ]
  },
  {
   "cell_type": "code",
   "execution_count": 101,
   "metadata": {},
   "outputs": [
    {
     "name": "stdout",
     "output_type": "stream",
     "text": [
      "char 0 b 0 defaultdict(<class 'int'>, {'a': 1, 'b': 1, 'c': 1}) 0 3\n",
      "char 1 b 0 defaultdict(<class 'int'>, {'a': 1, 'b': 0, 'c': 1}) 1 3\n",
      "char 2 b 0 defaultdict(<class 'int'>, {'a': 1, 'b': -1, 'c': 1}) 1 3\n",
      "char 3 c 1 defaultdict(<class 'int'>, {'a': 1, 'b': -1, 'c': 1}) 1 3\n",
      "char 4 a 2 defaultdict(<class 'int'>, {'a': 1, 'b': 0, 'c': 0}) 2 3\n"
     ]
    },
    {
     "data": {
      "text/plain": [
       "True"
      ]
     },
     "execution_count": 101,
     "metadata": {},
     "output_type": "execute_result"
    }
   ],
   "source": [
    "\n",
    "Solution().checkInclusion(\"abc\",\"bbbca\")"
   ]
  },
  {
   "cell_type": "code",
   "execution_count": 102,
   "metadata": {},
   "outputs": [
    {
     "name": "stdout",
     "output_type": "stream",
     "text": [
      "char 0 d 0 defaultdict(<class 'int'>, {'t': 4, 'r': 3, 'i': 4, 'n': 4, 'o': 1, 'p': 1, 'h': 2, 'e': 3, 'y': 2, 'l': 2, 'm': 2, 'a': 1}) 0 12\n",
      "char 1 i 0 defaultdict(<class 'int'>, {'t': 4, 'r': 3, 'i': 4, 'n': 4, 'o': 1, 'p': 1, 'h': 2, 'e': 3, 'y': 2, 'l': 2, 'm': 2, 'a': 1}) 0 12\n",
      "char 2 n 0 defaultdict(<class 'int'>, {'t': 4, 'r': 3, 'i': 3, 'n': 4, 'o': 1, 'p': 1, 'h': 2, 'e': 3, 'y': 2, 'l': 2, 'm': 2, 'a': 1}) 0 12\n",
      "char 3 i 0 defaultdict(<class 'int'>, {'t': 4, 'r': 3, 'i': 3, 'n': 3, 'o': 1, 'p': 1, 'h': 2, 'e': 3, 'y': 2, 'l': 2, 'm': 2, 'a': 1}) 0 12\n",
      "char 4 t 0 defaultdict(<class 'int'>, {'t': 4, 'r': 3, 'i': 2, 'n': 3, 'o': 1, 'p': 1, 'h': 2, 'e': 3, 'y': 2, 'l': 2, 'm': 2, 'a': 1}) 0 12\n",
      "char 5 r 0 defaultdict(<class 'int'>, {'t': 3, 'r': 3, 'i': 2, 'n': 3, 'o': 1, 'p': 1, 'h': 2, 'e': 3, 'y': 2, 'l': 2, 'm': 2, 'a': 1}) 0 12\n",
      "char 6 o 0 defaultdict(<class 'int'>, {'t': 3, 'r': 2, 'i': 2, 'n': 3, 'o': 1, 'p': 1, 'h': 2, 'e': 3, 'y': 2, 'l': 2, 'm': 2, 'a': 1}) 0 12\n",
      "char 7 p 0 defaultdict(<class 'int'>, {'t': 3, 'r': 2, 'i': 2, 'n': 3, 'o': 0, 'p': 1, 'h': 2, 'e': 3, 'y': 2, 'l': 2, 'm': 2, 'a': 1}) 1 12\n",
      "char 8 h 0 defaultdict(<class 'int'>, {'t': 3, 'r': 2, 'i': 2, 'n': 3, 'o': 0, 'p': 0, 'h': 2, 'e': 3, 'y': 2, 'l': 2, 'm': 2, 'a': 1}) 2 12\n",
      "char 9 e 0 defaultdict(<class 'int'>, {'t': 3, 'r': 2, 'i': 2, 'n': 3, 'o': 0, 'p': 0, 'h': 1, 'e': 3, 'y': 2, 'l': 2, 'm': 2, 'a': 1}) 2 12\n",
      "char 10 n 0 defaultdict(<class 'int'>, {'t': 3, 'r': 2, 'i': 2, 'n': 3, 'o': 0, 'p': 0, 'h': 1, 'e': 2, 'y': 2, 'l': 2, 'm': 2, 'a': 1}) 2 12\n",
      "char 11 y 0 defaultdict(<class 'int'>, {'t': 3, 'r': 2, 'i': 2, 'n': 2, 'o': 0, 'p': 0, 'h': 1, 'e': 2, 'y': 2, 'l': 2, 'm': 2, 'a': 1}) 2 12\n",
      "char 12 l 0 defaultdict(<class 'int'>, {'t': 3, 'r': 2, 'i': 2, 'n': 2, 'o': 0, 'p': 0, 'h': 1, 'e': 2, 'y': 1, 'l': 2, 'm': 2, 'a': 1}) 2 12\n",
      "char 13 h 0 defaultdict(<class 'int'>, {'t': 3, 'r': 2, 'i': 2, 'n': 2, 'o': 0, 'p': 0, 'h': 1, 'e': 2, 'y': 1, 'l': 1, 'm': 2, 'a': 1}) 2 12\n",
      "char 14 y 0 defaultdict(<class 'int'>, {'t': 3, 'r': 2, 'i': 2, 'n': 2, 'o': 0, 'p': 0, 'h': 0, 'e': 2, 'y': 1, 'l': 1, 'm': 2, 'a': 1}) 3 12\n",
      "char 15 d 0 defaultdict(<class 'int'>, {'t': 3, 'r': 2, 'i': 2, 'n': 2, 'o': 0, 'p': 0, 'h': 0, 'e': 2, 'y': 0, 'l': 1, 'm': 2, 'a': 1}) 4 12\n",
      "char 16 r 0 defaultdict(<class 'int'>, {'t': 3, 'r': 2, 'i': 2, 'n': 2, 'o': 0, 'p': 0, 'h': 0, 'e': 2, 'y': 0, 'l': 1, 'm': 2, 'a': 1}) 4 12\n",
      "char 17 a 0 defaultdict(<class 'int'>, {'t': 3, 'r': 1, 'i': 2, 'n': 2, 'o': 0, 'p': 0, 'h': 0, 'e': 2, 'y': 0, 'l': 1, 'm': 2, 'a': 1}) 4 12\n",
      "char 18 z 0 defaultdict(<class 'int'>, {'t': 3, 'r': 1, 'i': 2, 'n': 2, 'o': 0, 'p': 0, 'h': 0, 'e': 2, 'y': 0, 'l': 1, 'm': 2, 'a': 0}) 5 12\n",
      "char 19 i 0 defaultdict(<class 'int'>, {'t': 3, 'r': 1, 'i': 2, 'n': 2, 'o': 0, 'p': 0, 'h': 0, 'e': 2, 'y': 0, 'l': 1, 'm': 2, 'a': 0}) 5 12\n",
      "char 20 n 0 defaultdict(<class 'int'>, {'t': 3, 'r': 1, 'i': 1, 'n': 2, 'o': 0, 'p': 0, 'h': 0, 'e': 2, 'y': 0, 'l': 1, 'm': 2, 'a': 0}) 5 12\n",
      "char 21 e 0 defaultdict(<class 'int'>, {'t': 3, 'r': 1, 'i': 1, 'n': 1, 'o': 0, 'p': 0, 'h': 0, 'e': 2, 'y': 0, 'l': 1, 'm': 2, 'a': 0}) 5 12\n",
      "char 22 t 0 defaultdict(<class 'int'>, {'t': 3, 'r': 1, 'i': 1, 'n': 1, 'o': 0, 'p': 0, 'h': 0, 'e': 1, 'y': 0, 'l': 1, 'm': 2, 'a': 0}) 5 12\n",
      "char 23 r 0 defaultdict(<class 'int'>, {'t': 2, 'r': 1, 'i': 1, 'n': 1, 'o': 0, 'p': 0, 'h': 0, 'e': 1, 'y': 0, 'l': 1, 'm': 2, 'a': 0}) 5 12\n",
      "char 24 i 0 defaultdict(<class 'int'>, {'t': 2, 'r': 0, 'i': 1, 'n': 1, 'o': 0, 'p': 0, 'h': 0, 'e': 1, 'y': 0, 'l': 1, 'm': 2, 'a': 0}) 6 12\n",
      "char 25 n 0 defaultdict(<class 'int'>, {'t': 2, 'r': 0, 'i': 0, 'n': 1, 'o': 0, 'p': 0, 'h': 0, 'e': 1, 'y': 0, 'l': 1, 'm': 2, 'a': 0}) 7 12\n",
      "char 26 i 0 defaultdict(<class 'int'>, {'t': 2, 'r': 0, 'i': 0, 'n': 0, 'o': 0, 'p': 0, 'h': 0, 'e': 1, 'y': 0, 'l': 1, 'm': 2, 'a': 0}) 8 12\n",
      "char 27 t 0 defaultdict(<class 'int'>, {'t': 2, 'r': 0, 'i': -1, 'n': 0, 'o': 0, 'p': 0, 'h': 0, 'e': 1, 'y': 0, 'l': 1, 'm': 2, 'a': 0}) 8 12\n",
      "char 28 r 0 defaultdict(<class 'int'>, {'t': 1, 'r': 0, 'i': -1, 'n': 0, 'o': 0, 'p': 0, 'h': 0, 'e': 1, 'y': 0, 'l': 1, 'm': 2, 'a': 0}) 8 12\n",
      "char 29 o 1 defaultdict(<class 'int'>, {'t': 1, 'r': -1, 'i': -1, 'n': 0, 'o': 0, 'p': 0, 'h': 0, 'e': 1, 'y': 0, 'l': 1, 'm': 2, 'a': 0}) 8 12\n",
      "char 30 p 2 defaultdict(<class 'int'>, {'t': 1, 'r': -1, 'i': 0, 'n': 0, 'o': -1, 'p': 0, 'h': 0, 'e': 1, 'y': 0, 'l': 1, 'm': 2, 'a': 0}) 8 12\n",
      "char 31 h 3 defaultdict(<class 'int'>, {'t': 1, 'r': -1, 'i': 0, 'n': 1, 'o': -1, 'p': -1, 'h': 0, 'e': 1, 'y': 0, 'l': 1, 'm': 2, 'a': 0}) 7 12\n",
      "char 32 e 4 defaultdict(<class 'int'>, {'t': 1, 'r': -1, 'i': 1, 'n': 1, 'o': -1, 'p': -1, 'h': -1, 'e': 1, 'y': 0, 'l': 1, 'm': 2, 'a': 0}) 6 12\n",
      "char 33 n 5 defaultdict(<class 'int'>, {'t': 2, 'r': -1, 'i': 1, 'n': 1, 'o': -1, 'p': -1, 'h': -1, 'e': 0, 'y': 0, 'l': 1, 'm': 2, 'a': 0}) 7 12\n",
      "char 34 y 6 defaultdict(<class 'int'>, {'t': 2, 'r': 0, 'i': 1, 'n': 0, 'o': -1, 'p': -1, 'h': -1, 'e': 0, 'y': 0, 'l': 1, 'm': 2, 'a': 0}) 8 12\n",
      "char 35 l 7 defaultdict(<class 'int'>, {'t': 2, 'r': 0, 'i': 1, 'n': 0, 'o': 0, 'p': -1, 'h': -1, 'e': 0, 'y': -1, 'l': 1, 'm': 2, 'a': 0}) 8 12\n",
      "char 36 m 8 defaultdict(<class 'int'>, {'t': 2, 'r': 0, 'i': 1, 'n': 0, 'o': 0, 'p': 0, 'h': -1, 'e': 0, 'y': -1, 'l': 0, 'm': 2, 'a': 0}) 9 12\n",
      "char 37 e 9 defaultdict(<class 'int'>, {'t': 2, 'r': 0, 'i': 1, 'n': 0, 'o': 0, 'p': 0, 'h': 0, 'e': 0, 'y': -1, 'l': 0, 'm': 1, 'a': 0}) 9 12\n",
      "char 38 t 10 defaultdict(<class 'int'>, {'t': 2, 'r': 0, 'i': 1, 'n': 0, 'o': 0, 'p': 0, 'h': 0, 'e': 0, 'y': -1, 'l': 0, 'm': 1, 'a': 0}) 9 12\n",
      "char 39 h 11 defaultdict(<class 'int'>, {'t': 1, 'r': 0, 'i': 1, 'n': 1, 'o': 0, 'p': 0, 'h': 0, 'e': 0, 'y': -1, 'l': 0, 'm': 1, 'a': 0}) 8 12\n",
      "char 40 y 12 defaultdict(<class 'int'>, {'t': 1, 'r': 0, 'i': 1, 'n': 1, 'o': 0, 'p': 0, 'h': -1, 'e': 0, 'y': 0, 'l': 0, 'm': 1, 'a': 0}) 8 12\n",
      "char 41 l 13 defaultdict(<class 'int'>, {'t': 1, 'r': 0, 'i': 1, 'n': 1, 'o': 0, 'p': 0, 'h': -1, 'e': 0, 'y': -1, 'l': 1, 'm': 1, 'a': 0}) 7 12\n",
      "char 42 n 14 defaultdict(<class 'int'>, {'t': 1, 'r': 0, 'i': 1, 'n': 1, 'o': 0, 'p': 0, 'h': 0, 'e': 0, 'y': -1, 'l': 0, 'm': 1, 'a': 0}) 8 12\n",
      "char 43 i 15 defaultdict(<class 'int'>, {'t': 1, 'r': 0, 'i': 1, 'n': 0, 'o': 0, 'p': 0, 'h': 0, 'e': 0, 'y': 0, 'l': 0, 'm': 1, 'a': 0}) 9 12\n",
      "char 44 t 16 defaultdict(<class 'int'>, {'t': 1, 'r': 0, 'i': 0, 'n': 0, 'o': 0, 'p': 0, 'h': 0, 'e': 0, 'y': 0, 'l': 0, 'm': 1, 'a': 0}) 10 12\n",
      "char 45 r 17 defaultdict(<class 'int'>, {'t': 0, 'r': 1, 'i': 0, 'n': 0, 'o': 0, 'p': 0, 'h': 0, 'e': 0, 'y': 0, 'l': 0, 'm': 1, 'a': 0}) 10 12\n",
      "char 46 a 18 defaultdict(<class 'int'>, {'t': 0, 'r': 0, 'i': 0, 'n': 0, 'o': 0, 'p': 0, 'h': 0, 'e': 0, 'y': 0, 'l': 0, 'm': 1, 'a': 1}) 10 12\n",
      "char 47 m 19 defaultdict(<class 'int'>, {'t': 0, 'r': 0, 'i': 0, 'n': 0, 'o': 0, 'p': 0, 'h': 0, 'e': 0, 'y': 0, 'l': 0, 'm': 1, 'a': 0}) 11 12\n"
     ]
    },
    {
     "data": {
      "text/plain": [
       "True"
      ]
     },
     "execution_count": 102,
     "metadata": {},
     "output_type": "execute_result"
    }
   ],
   "source": [
    "\n",
    "Solution().checkInclusion(\"trinitrophenylmethylnitramine\",\"dinitrophenylhydrazinetrinitrophenylmethylnitramine\")"
   ]
  },
  {
   "cell_type": "code",
   "execution_count": 118,
   "metadata": {},
   "outputs": [
    {
     "name": "stdout",
     "output_type": "stream",
     "text": [
      "char 3 0 c 0 defaultdict(<class 'int'>, {'a': 1, 'b': 1, 'c': 1}) 0 3\n",
      "char 3 1 b 0 defaultdict(<class 'int'>, {'a': 1, 'b': 1, 'c': 0}) 1 3\n",
      "char 3 2 a 0 defaultdict(<class 'int'>, {'a': 1, 'b': 0, 'c': 0}) 2 3\n",
      "char 3 3 e 1 defaultdict(<class 'int'>, {'a': 0, 'b': 0, 'c': 1}) 2 3\n",
      "char 3 4 b 2 defaultdict(<class 'int'>, {'a': 0, 'b': 1, 'c': 1}) 1 3\n",
      "char 3 5 a 3 defaultdict(<class 'int'>, {'a': 1, 'b': 0, 'c': 1}) 1 3\n",
      "char 3 6 b 4 defaultdict(<class 'int'>, {'a': 0, 'b': 0, 'c': 1}) 2 3\n",
      "char 3 7 a 5 defaultdict(<class 'int'>, {'a': 0, 'b': 0, 'c': 1}) 2 3\n",
      "char 3 8 c 6 defaultdict(<class 'int'>, {'a': 0, 'b': 0, 'c': 1}) 2 3\n",
      "char 3 9 d 7 defaultdict(<class 'int'>, {'a': 0, 'b': 1, 'c': 0}) 2 3\n"
     ]
    },
    {
     "data": {
      "text/plain": [
       "[0, 6]"
      ]
     },
     "execution_count": 118,
     "metadata": {},
     "output_type": "execute_result"
    }
   ],
   "source": [
    "Solution().findAnagrams(\"cbaebabacd\",\"abc\")"
   ]
  }
 ],
 "metadata": {
  "kernelspec": {
   "display_name": "base",
   "language": "python",
   "name": "python3"
  },
  "language_info": {
   "codemirror_mode": {
    "name": "ipython",
    "version": 3
   },
   "file_extension": ".py",
   "mimetype": "text/x-python",
   "name": "python",
   "nbconvert_exporter": "python",
   "pygments_lexer": "ipython3",
   "version": "3.9.12"
  }
 },
 "nbformat": 4,
 "nbformat_minor": 2
}
