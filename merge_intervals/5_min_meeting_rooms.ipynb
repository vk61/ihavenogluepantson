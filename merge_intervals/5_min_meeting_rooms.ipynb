{
 "cells": [
  {
   "cell_type": "markdown",
   "metadata": {},
   "source": [
    "https://leetcode.com/problems/meeting-rooms-ii/\n",
    "\n",
    "Given a list of intervals representing the start and endTime ofN meetings, find the minimum number of rooms required to hold all the meetings.\n",
    "\n",
    "Example :\n",
    "Meetings: [[4,5], [2,3], [2,4], [3,5]]\n",
    "Output: 2\n",
    "Explanation: We will need one room for [2,3] and [3,5], and another room for [2,4] and [4,5].\n",
    "\n",
    "solution 2\n",
    "----------------\n",
    "The time complexity of the above algorithm is O(N*logN), where N is the total number of meetings. This is due to the sorting that we did in the beginning. Also, while iterating the meetings we might need to poll/offer meeting to the priority queue. Each of these operations can take O(logN). Overall our algorithm will take O(NlogN).\n",
    "The space complexity of the above algorithm will be O(N) which is required for sorting. Also, in the worst case scenario, we’ll have to insert all the meetings into the Min Heap (when all meetings overlap) which will also take O(N) space. The overall space complexity of our algorithm is O(N)."
   ]
  },
  {
   "cell_type": "code",
   "execution_count": 53,
   "metadata": {},
   "outputs": [],
   "source": [
    "from heapq import heapify, heappush, heappop\n",
    "\n",
    "class Solution(object):\n",
    "  \n",
    "  def minMeetingRooms_sol_1(self, intervals):\n",
    "    \"\"\"\n",
    "    :type intervals: List[List[int]]\n",
    "    :rtype: int\n",
    "    \"\"\"\n",
    "    meetings = []\n",
    "    for i in intervals:\n",
    "      meetings.append((i[0], 1))\n",
    "      meetings.append((i[1], 0))\n",
    "    meetings.sort()\n",
    "    ans = 0\n",
    "    count = 0\n",
    "    for meeting in meetings:\n",
    "      if meeting[1] == 1:\n",
    "        count += 1\n",
    "      else:\n",
    "        count -= 1\n",
    "      ans = max(ans, count)\n",
    "    return ans\n",
    "  \n",
    "  #  using min heap \n",
    "  def minMeetingRooms_sol_2(self, intervals):\n",
    "    if len(intervals) < 2:\n",
    "        return len(intervals)\n",
    "\n",
    "    intervals.sort(key=lambda x:x[0])\n",
    "\n",
    "    heap = [intervals[0][1]]\n",
    "    heapify(heap)\n",
    "    meeting_rooms = 1\n",
    "    \n",
    "    for idx,interval in enumerate(intervals):\n",
    "      if idx == 0:\n",
    "        continue\n",
    "      earliest_ending_meeting = heap[0]\n",
    "      if interval[0] >= earliest_ending_meeting:\n",
    "          heappop(heap)\n",
    "      else:\n",
    "        meeting_rooms += 1\n",
    "      heappush(heap,interval[1])\n",
    "    return meeting_rooms\n",
    "    \n",
    "    "
   ]
  },
  {
   "cell_type": "code",
   "execution_count": 17,
   "metadata": {},
   "outputs": [
    {
     "data": {
      "text/plain": [
       "0"
      ]
     },
     "execution_count": 17,
     "metadata": {},
     "output_type": "execute_result"
    }
   ],
   "source": [
    "Solution().minMeetingRooms_sol_1([])"
   ]
  },
  {
   "cell_type": "code",
   "execution_count": 34,
   "metadata": {},
   "outputs": [
    {
     "data": {
      "text/plain": [
       "0"
      ]
     },
     "execution_count": 34,
     "metadata": {},
     "output_type": "execute_result"
    }
   ],
   "source": [
    "Solution().minMeetingRooms_sol_2([])"
   ]
  },
  {
   "cell_type": "code",
   "execution_count": 9,
   "metadata": {},
   "outputs": [
    {
     "data": {
      "text/plain": [
       "1"
      ]
     },
     "execution_count": 9,
     "metadata": {},
     "output_type": "execute_result"
    }
   ],
   "source": [
    "Solution().minMeetingRooms_sol_1([[1,4]])"
   ]
  },
  {
   "cell_type": "code",
   "execution_count": 44,
   "metadata": {},
   "outputs": [
    {
     "data": {
      "text/plain": [
       "1"
      ]
     },
     "execution_count": 44,
     "metadata": {},
     "output_type": "execute_result"
    }
   ],
   "source": [
    "Solution().minMeetingRooms_sol_2([[1,4]])"
   ]
  },
  {
   "cell_type": "code",
   "execution_count": 45,
   "metadata": {},
   "outputs": [
    {
     "data": {
      "text/plain": [
       "2"
      ]
     },
     "execution_count": 45,
     "metadata": {},
     "output_type": "execute_result"
    }
   ],
   "source": [
    "Solution().minMeetingRooms_sol_1([[1,4], [2,5], [7,9]])\n",
    "# 2, Since [1,4] and [2,5] overlap, we need two rooms to hold these two meetings. [7,9] can occur in any of the two rooms later."
   ]
  },
  {
   "cell_type": "code",
   "execution_count": 46,
   "metadata": {},
   "outputs": [
    {
     "data": {
      "text/plain": [
       "2"
      ]
     },
     "execution_count": 46,
     "metadata": {},
     "output_type": "execute_result"
    }
   ],
   "source": [
    "Solution().minMeetingRooms_sol_2([[1,4], [2,5], [7,9]])\n",
    "# 2, Since [1,4] and [2,5] overlap, we need two rooms to hold these two meetings. [7,9] can occur in any of the two rooms later."
   ]
  },
  {
   "cell_type": "code",
   "execution_count": 47,
   "metadata": {},
   "outputs": [
    {
     "data": {
      "text/plain": [
       "1"
      ]
     },
     "execution_count": 47,
     "metadata": {},
     "output_type": "execute_result"
    }
   ],
   "source": [
    "Solution().minMeetingRooms_sol_1([[6,7], [2,4], [8,12]])\n",
    "# 1, None of the meetings overlap, therefore we only need one room to hold all meetings."
   ]
  },
  {
   "cell_type": "code",
   "execution_count": 48,
   "metadata": {},
   "outputs": [
    {
     "data": {
      "text/plain": [
       "1"
      ]
     },
     "execution_count": 48,
     "metadata": {},
     "output_type": "execute_result"
    }
   ],
   "source": [
    "Solution().minMeetingRooms_sol_2([[6,7], [2,4], [8,12]])\n",
    "# 1, None of the meetings overlap, therefore we only need one room to hold all meetings."
   ]
  },
  {
   "cell_type": "code",
   "execution_count": 54,
   "metadata": {},
   "outputs": [
    {
     "data": {
      "text/plain": [
       "2"
      ]
     },
     "execution_count": 54,
     "metadata": {},
     "output_type": "execute_result"
    }
   ],
   "source": [
    "Solution().minMeetingRooms_sol_1([[1,4], [2,3], [3,6]])\n",
    "# 2, Since [1,4] overlaps with the other two meetings [2,3] and [3,6], we need two rooms to hold all the meetings."
   ]
  },
  {
   "cell_type": "code",
   "execution_count": 55,
   "metadata": {},
   "outputs": [
    {
     "data": {
      "text/plain": [
       "2"
      ]
     },
     "execution_count": 55,
     "metadata": {},
     "output_type": "execute_result"
    }
   ],
   "source": [
    "Solution().minMeetingRooms_sol_2([[1,4], [2,3], [3,6]])\n",
    "# 2, Since [1,4] overlaps with the other two meetings [2,3] and [3,6], we need two rooms to hold all the meetings."
   ]
  },
  {
   "cell_type": "code",
   "execution_count": 56,
   "metadata": {},
   "outputs": [
    {
     "data": {
      "text/plain": [
       "2"
      ]
     },
     "execution_count": 56,
     "metadata": {},
     "output_type": "execute_result"
    }
   ],
   "source": [
    "Solution().minMeetingRooms_sol_1([[4,5], [2,3], [2,4], [3,5]])\n",
    "# 2, We will need one room for [2,3] and [3,5], and another room for [2,4] and [4,5].\n"
   ]
  },
  {
   "cell_type": "code",
   "execution_count": 57,
   "metadata": {},
   "outputs": [
    {
     "data": {
      "text/plain": [
       "2"
      ]
     },
     "execution_count": 57,
     "metadata": {},
     "output_type": "execute_result"
    }
   ],
   "source": [
    "Solution().minMeetingRooms_sol_2([[4,5], [2,3], [2,4], [3,5]])\n",
    "# 2, We will need one room for [2,3] and [3,5], and another room for [2,4] and [4,5].\n"
   ]
  }
 ],
 "metadata": {
  "kernelspec": {
   "display_name": "base",
   "language": "python",
   "name": "python3"
  },
  "language_info": {
   "codemirror_mode": {
    "name": "ipython",
    "version": 3
   },
   "file_extension": ".py",
   "mimetype": "text/x-python",
   "name": "python",
   "nbconvert_exporter": "python",
   "pygments_lexer": "ipython3",
   "version": "3.9.12"
  }
 },
 "nbformat": 4,
 "nbformat_minor": 2
}
