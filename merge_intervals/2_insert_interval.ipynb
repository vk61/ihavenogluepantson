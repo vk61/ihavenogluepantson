{
 "cells": [
  {
   "cell_type": "markdown",
   "metadata": {},
   "source": [
    "https://leetcode.com/problems/insert-interval/\n",
    "\n",
    "Given a list of non-overlapping intervals sorted by their startTime, insert a given interval at the correct position and merge all necessary intervals to produce a list that has only mutually exclusive intervals.\n",
    "\n",
    "As we are iterating through all the intervals only once, the time complexity of the above algorithm is O(N), where N is the total number of intervals.\n",
    "The space complexity of the above algorithm will be O(N) as we need to return a list containing all the merged intervals."
   ]
  },
  {
   "cell_type": "code",
   "execution_count": 12,
   "metadata": {},
   "outputs": [],
   "source": [
    "from typing import List\n",
    "\n",
    "\n",
    "class Solution:\n",
    "    def insert(self, intervals: List[List[int]], newInterval: List[int]) -> List[List[int]]:\n",
    "        ans = []\n",
    "        idx = 0\n",
    "        arr_len = len(intervals)\n",
    "        while idx < arr_len and intervals[idx][1] < newInterval[0]:\n",
    "            ans.append(intervals[idx])\n",
    "            idx += 1\n",
    "        \n",
    "        while idx < arr_len and intervals[idx][0] <= newInterval[1]:\n",
    "            newInterval[0] = min(newInterval[0],intervals[idx][0])\n",
    "            newInterval[1] = max(newInterval[1],intervals[idx][1])\n",
    "            idx += 1\n",
    "        ans.append(newInterval)\n",
    "        while idx < arr_len:\n",
    "            ans.append(intervals[idx])\n",
    "            idx += 1\n",
    "        return ans\n",
    "                "
   ]
  },
  {
   "cell_type": "code",
   "execution_count": 13,
   "metadata": {},
   "outputs": [
    {
     "data": {
      "text/plain": [
       "[[1, 5], [6, 9]]"
      ]
     },
     "execution_count": 13,
     "metadata": {},
     "output_type": "execute_result"
    }
   ],
   "source": [
    "Solution().insert([[1,3],[6,9]],[2,5])"
   ]
  },
  {
   "cell_type": "code",
   "execution_count": 14,
   "metadata": {},
   "outputs": [
    {
     "data": {
      "text/plain": [
       "[[1, 2], [3, 10], [12, 16]]"
      ]
     },
     "execution_count": 14,
     "metadata": {},
     "output_type": "execute_result"
    }
   ],
   "source": [
    "Solution().insert([[1,2],[3,5],[6,7],[8,10],[12,16]],[4,8])"
   ]
  }
 ],
 "metadata": {
  "kernelspec": {
   "display_name": "base",
   "language": "python",
   "name": "python3"
  },
  "language_info": {
   "codemirror_mode": {
    "name": "ipython",
    "version": 3
   },
   "file_extension": ".py",
   "mimetype": "text/x-python",
   "name": "python",
   "nbconvert_exporter": "python",
   "pygments_lexer": "ipython3",
   "version": "3.9.12"
  }
 },
 "nbformat": 4,
 "nbformat_minor": 2
}
