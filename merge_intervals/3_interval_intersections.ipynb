{
 "cells": [
  {
   "cell_type": "markdown",
   "metadata": {},
   "source": [
    "https://leetcode.com/problems/interval-list-intersections/\n",
    "\n",
    "Given two lists of intervals, find the intersection of these two lists. Each list consists of disjoint intervals sorted on their startTime.\n",
    "\n",
    "That is, the highest startTime and the lowest endTime will be the overlapping interval.\n",
    "\n",
    "As we are iterating through both the lists once, the time complexity of the above algorithm is O(N + M), where N and M are the total number of intervals in the input arrays respectively.\n",
    "Ignoring the space needed for the result list, the algorithm runs in constant space O(1)."
   ]
  },
  {
   "cell_type": "code",
   "execution_count": 11,
   "metadata": {},
   "outputs": [],
   "source": [
    "from typing import List\n",
    "\n",
    "\n",
    "class Solution:\n",
    "    def intervalIntersection(self, firstList: List[List[int]], secondList: List[List[int]]) -> List[List[int]]:\n",
    "        intersections = []\n",
    "        i = 0\n",
    "        j = 0\n",
    "\n",
    "        while i < len(firstList) and j < len(secondList):\n",
    "            firstInterval = firstList[i]\n",
    "            secondInterval = secondList[j]\n",
    "            if firstInterval[0] > secondInterval[0] and firstInterval[0] > secondInterval[1]:\n",
    "                j+=1\n",
    "            elif secondInterval[0] > firstInterval[0] and secondInterval[0] > firstInterval[1]:\n",
    "                i+=1\n",
    "            else:\n",
    "                end  = 0\n",
    "                if firstInterval[1] < secondInterval[1]:\n",
    "                    end = firstInterval[1]\n",
    "                    i+=1\n",
    "                else:\n",
    "                    end = secondInterval[1]\n",
    "                    j+=1\n",
    "                intersections.append([max(firstInterval[0],secondInterval[0]),end])\n",
    "        return intersections\n"
   ]
  },
  {
   "cell_type": "code",
   "execution_count": 12,
   "metadata": {},
   "outputs": [
    {
     "data": {
      "text/plain": [
       "[[1, 2], [5, 5], [8, 10], [15, 23], [24, 24], [25, 25]]"
      ]
     },
     "execution_count": 12,
     "metadata": {},
     "output_type": "execute_result"
    }
   ],
   "source": [
    "Solution().intervalIntersection([[0,2],[5,10],[13,23],[24,25]],[[1,5],[8,12],[15,24],[25,26]])"
   ]
  },
  {
   "cell_type": "code",
   "execution_count": 13,
   "metadata": {},
   "outputs": [
    {
     "data": {
      "text/plain": [
       "[]"
      ]
     },
     "execution_count": 13,
     "metadata": {},
     "output_type": "execute_result"
    }
   ],
   "source": [
    "Solution().intervalIntersection([[1,3],[5,9]],[])"
   ]
  }
 ],
 "metadata": {
  "kernelspec": {
   "display_name": "base",
   "language": "python",
   "name": "python3"
  },
  "language_info": {
   "codemirror_mode": {
    "name": "ipython",
    "version": 3
   },
   "file_extension": ".py",
   "mimetype": "text/x-python",
   "name": "python",
   "nbconvert_exporter": "python",
   "pygments_lexer": "ipython3",
   "version": "3.9.12"
  }
 },
 "nbformat": 4,
 "nbformat_minor": 2
}
