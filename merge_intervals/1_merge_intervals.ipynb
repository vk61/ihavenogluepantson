{
 "cells": [
  {
   "cell_type": "markdown",
   "metadata": {},
   "source": [
    "https://leetcode.com/problems/merge-intervals/\n",
    "\n",
    "Given a list of intervals, merge all the overlapping intervals to produce a list that has only mutually exclusive intervals.\n",
    "\n",
    "Our goal is to merge the intervals whenever they overlap. The diagram above clearly shows a merging approach. Our algorithm will look like this:\n",
    "\n",
    "Sort the intervals on the startTime to ensure a.start <= b.start\n",
    "If a overlaps b (i.e. b.start <= a.end), we need to merge them into a new interval c such that:\n",
    "   1. c.start = a.start\n",
    "   2. c.end = max(a.end, b.end)\n",
    "\n",
    "\n",
    "The time complexity of the algorithm is O(N * logN), where N is the total number of intervals. We are iterating the intervals only once which will take O(N), in the beginning though, since we need to sort the intervals, our algorithm will take O(N * logN).\n",
    "The space complexity of the algorithm will be O(N) as we need to return a list containing all the merged intervals. We will also need O(N) space for sorting"
   ]
  },
  {
   "cell_type": "code",
   "execution_count": 5,
   "metadata": {},
   "outputs": [],
   "source": [
    "from typing import List\n",
    "\n",
    "def sortBasedOnBeginingOfTheInterval(e):\n",
    "    return e[0]\n",
    "\n",
    "class Solution:\n",
    "    def merge(self, intervals: List[List[int]]) -> List[List[int]]:\n",
    "        ans = []\n",
    "        intervals.sort(key=sortBasedOnBeginingOfTheInterval)\n",
    "        start = intervals[0][0]\n",
    "        end = intervals[0][1]\n",
    "        for _,interval in enumerate(intervals):\n",
    "            if interval[0] <= end:\n",
    "                end = max(end,interval[1])\n",
    "            else:\n",
    "                ans.append([start,end])\n",
    "                start = interval[0]\n",
    "                end = interval[1]\n",
    "        ans.append([start,end])\n",
    "        return ans             "
   ]
  },
  {
   "cell_type": "code",
   "execution_count": 6,
   "metadata": {},
   "outputs": [
    {
     "data": {
      "text/plain": [
       "[[1, 6], [8, 10], [15, 18]]"
      ]
     },
     "execution_count": 6,
     "metadata": {},
     "output_type": "execute_result"
    }
   ],
   "source": [
    "Solution().merge([[1,3],[2,6],[8,10],[15,18]])"
   ]
  },
  {
   "cell_type": "code",
   "execution_count": 7,
   "metadata": {},
   "outputs": [
    {
     "data": {
      "text/plain": [
       "[[1, 5]]"
      ]
     },
     "execution_count": 7,
     "metadata": {},
     "output_type": "execute_result"
    }
   ],
   "source": [
    "Solution().merge([[1,4],[4,5]])"
   ]
  }
 ],
 "metadata": {
  "kernelspec": {
   "display_name": "base",
   "language": "python",
   "name": "python3"
  },
  "language_info": {
   "codemirror_mode": {
    "name": "ipython",
    "version": 3
   },
   "file_extension": ".py",
   "mimetype": "text/x-python",
   "name": "python",
   "nbconvert_exporter": "python",
   "pygments_lexer": "ipython3",
   "version": "3.9.12"
  }
 },
 "nbformat": 4,
 "nbformat_minor": 2
}
