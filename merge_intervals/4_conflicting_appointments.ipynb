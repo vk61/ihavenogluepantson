{
 "cells": [
  {
   "cell_type": "markdown",
   "metadata": {},
   "source": [
    "https://leetcode.com/problems/meeting-rooms/\n",
    "\n",
    "Given an array of intervals representing N appointments, find out if a person can attend all the appointments.\n",
    "\n",
    "The time complexity of the above algorithm is O(N*logN), where N is the total number of appointments. Though we are iterating the intervals only once, our algorithm will take O(N * logN) since we need to sort them in the beginning.\n",
    "The space complexity of the above algorithm will be O(N), which we need for sorting."
   ]
  },
  {
   "cell_type": "code",
   "execution_count": 52,
   "metadata": {},
   "outputs": [],
   "source": [
    "from typing import List\n",
    "\n",
    "\n",
    "class Solution:\n",
    "    def canAttendAllAppointments(self,appointments:List[List[int]])->bool:\n",
    "        appointments.sort(key=lambda x:x[0])\n",
    "        prev_appointment = appointments[0]\n",
    "        for idx,appointment in enumerate(appointments):\n",
    "            if idx == 0:\n",
    "                continue\n",
    "            if appointment[0] < prev_appointment[1]:\n",
    "                return False\n",
    "            prev_appointment = appointment\n",
    "        return True\n"
   ]
  },
  {
   "cell_type": "code",
   "execution_count": 53,
   "metadata": {},
   "outputs": [
    {
     "data": {
      "text/plain": [
       "False"
      ]
     },
     "execution_count": 53,
     "metadata": {},
     "output_type": "execute_result"
    }
   ],
   "source": [
    "Solution().canAttendAllAppointments([[1,4], [2,5], [7,9]])\n",
    "# false, Since [1,4] and [2,5] overlap, a person cannot attend both of these appointments."
   ]
  },
  {
   "cell_type": "code",
   "execution_count": 54,
   "metadata": {},
   "outputs": [
    {
     "data": {
      "text/plain": [
       "True"
      ]
     },
     "execution_count": 54,
     "metadata": {},
     "output_type": "execute_result"
    }
   ],
   "source": [
    "Solution().canAttendAllAppointments([[6,7], [2,4], [8,12]])\n",
    "# true, None of the appointments overlap, therefore a person can attend all of them."
   ]
  },
  {
   "cell_type": "code",
   "execution_count": 55,
   "metadata": {},
   "outputs": [
    {
     "data": {
      "text/plain": [
       "False"
      ]
     },
     "execution_count": 55,
     "metadata": {},
     "output_type": "execute_result"
    }
   ],
   "source": [
    "Solution().canAttendAllAppointments([[4,5], [2,3], [3,6]])\n",
    "# false, Since [4,5] and [3,6] overlap, a person cannot attend both of these appointments.\n"
   ]
  }
 ],
 "metadata": {
  "kernelspec": {
   "display_name": "base",
   "language": "python",
   "name": "python3"
  },
  "language_info": {
   "codemirror_mode": {
    "name": "ipython",
    "version": 3
   },
   "file_extension": ".py",
   "mimetype": "text/x-python",
   "name": "python",
   "nbconvert_exporter": "python",
   "pygments_lexer": "ipython3",
   "version": "3.9.12"
  }
 },
 "nbformat": 4,
 "nbformat_minor": 2
}
